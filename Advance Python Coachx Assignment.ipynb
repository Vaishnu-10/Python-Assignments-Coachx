{
 "cells": [
  {
   "cell_type": "code",
   "execution_count": 2,
   "id": "6a674d7b-3351-4354-9865-71ecee354e6e",
   "metadata": {},
   "outputs": [
    {
     "name": "stdout",
     "output_type": "stream",
     "text": [
      "My Name is Vaishnavi Mahamuni\n"
     ]
    }
   ],
   "source": [
    "'''SET A\n",
    "1. Write a Python program to read an entire text file.'''\n",
    "\n",
    "def read_entire_file(file_path):\n",
    "    with open(file_path, 'r') as file:\n",
    "        content = file.read()\n",
    "    return content\n",
    "file_path = 'Downloads/Example.txt'\n",
    "content = read_entire_file(file_path)\n",
    "print(content)\n"
   ]
  },
  {
   "cell_type": "code",
   "execution_count": 3,
   "id": "75a650a9-76e0-4082-99e7-db402c72cca4",
   "metadata": {},
   "outputs": [
    {
     "name": "stdout",
     "output_type": "stream",
     "text": [
      "Lines: 1, Words: 5, Characters: 29\n"
     ]
    }
   ],
   "source": [
    "#2. Write a Python program to compute the number of characters, words, and lines in a file.\n",
    "def file_statistics(file_path):\n",
    "    with open(file_path, 'r') as file:\n",
    "        lines = file.readlines()\n",
    "        \n",
    "    num_lines = len(lines)\n",
    "    num_words = sum(len(line.split()) for line in lines)\n",
    "    num_chars = sum(len(line) for line in lines)\n",
    "    \n",
    "    return num_lines, num_words, num_chars\n",
    "\n",
    "file_path = 'Downloads/Example.txt'\n",
    "lines, words, chars = file_statistics(file_path)\n",
    "print(f\"Lines: {lines}, Words: {words}, Characters: {chars}\")\n"
   ]
  },
  {
   "cell_type": "code",
   "execution_count": 4,
   "id": "400b125d-60f5-4ccc-aeda-1b540bed5d7d",
   "metadata": {},
   "outputs": [
    {
     "name": "stdout",
     "output_type": "stream",
     "text": [
      "Sun Jun 30 20:50:09 IST 2024\n"
     ]
    }
   ],
   "source": [
    "#3. Write a Python script to print the current date in the following format: \"Sun May 29 02:26:23 IST 2017\".\n",
    "import time\n",
    "\n",
    "def print_current_date():\n",
    "    current_time = time.strftime(\"%a %b %d %H:%M:%S IST %Y\")\n",
    "    print(current_time)\n",
    "\n",
    "print_current_date()\n"
   ]
  },
  {
   "cell_type": "code",
   "execution_count": 9,
   "id": "74b7500d-894f-42c7-ba83-d51bae3f23b9",
   "metadata": {},
   "outputs": [
    {
     "name": "stdout",
     "output_type": "stream",
     "text": [
      "My Name is Vaishnavi Mahamuni.\n",
      "This is the appended text.\n",
      "This is the appended text.\n",
      "\n"
     ]
    }
   ],
   "source": [
    "'''SET B\n",
    "1. Write a Python program to append text to a file and display the text.'''\n",
    "\n",
    "def append_text_to_file(file_path, text):\n",
    "    with open(file_path, 'a') as file:\n",
    "        file.write(text)\n",
    "        file.write('\\n')\n",
    "    \n",
    "    with open(file_path, 'r') as file:\n",
    "        content = file.read()\n",
    "    \n",
    "    return content\n",
    "\n",
    "file_path = 'Downloads/Example.txt'\n",
    "text = \"This is the appended text.\"\n",
    "content = append_text_to_file(file_path, text)\n",
    "print(content)\n"
   ]
  },
  {
   "cell_type": "code",
   "execution_count": 10,
   "id": "f2a1add2-8d2d-44fa-8ca7-f940cffe8ea5",
   "metadata": {},
   "outputs": [
    {
     "name": "stdout",
     "output_type": "stream",
     "text": [
      ".txet dedneppa eht si sihT\n",
      ".txet dedneppa eht si sihT\n",
      ".inumahaM ivanhsiaV si emaN yM\n"
     ]
    }
   ],
   "source": [
    "#2. Write a Python program to print each line of a file in reverse order.\n",
    "def print_lines_in_reverse(file_path):\n",
    "    with open(file_path, 'r') as file:\n",
    "        lines = file.readlines()\n",
    "    \n",
    "    for line in reversed(lines):\n",
    "        print(line.strip()[::-1])\n",
    "\n",
    "file_path = 'Downloads/Example.txt'\n",
    "print_lines_in_reverse(file_path)\n"
   ]
  },
  {
   "cell_type": "code",
   "execution_count": 11,
   "id": "a6eef03b-ce9c-4e88-aa10-8f2e2589dc2e",
   "metadata": {},
   "outputs": [
    {
     "name": "stdout",
     "output_type": "stream",
     "text": [
      "Current date and time: 2024-06-30 20:53:32\n"
     ]
    }
   ],
   "source": [
    "#3. Write a Python program to print the date and time for today and now.\n",
    "from datetime import datetime\n",
    "\n",
    "def print_today_and_now():\n",
    "    now = datetime.now()\n",
    "    print(\"Current date and time:\", now.strftime(\"%Y-%m-%d %H:%M:%S\"))\n",
    "print_today_and_now()\n"
   ]
  },
  {
   "cell_type": "code",
   "execution_count": 12,
   "id": "0a2b6cdf-9d86-41e9-99b7-f9526cfc7d77",
   "metadata": {},
   "outputs": [
    {
     "name": "stdout",
     "output_type": "stream",
     "text": [
      "My Name is Vaishnavi Mahamuni.\n",
      "This is the appended text.\n",
      "This is the appended text.\n",
      "\n"
     ]
    }
   ],
   "source": [
    "'''PROGRAMS FOR PRACTICE\n",
    "1. Write a Python program to read an entire text file.'''\n",
    "def read_entire_file(file_path):\n",
    "    with open(file_path, 'r') as file:\n",
    "        content = file.read()\n",
    "    return content\n",
    "\n",
    "file_path = 'Downloads/Example.txt'\n",
    "content = read_entire_file(file_path)\n",
    "print(content)\n",
    "\n"
   ]
  },
  {
   "cell_type": "code",
   "execution_count": 13,
   "id": "d779aa0f-6dce-422a-97c8-9cb2c6600e80",
   "metadata": {},
   "outputs": [
    {
     "name": "stdout",
     "output_type": "stream",
     "text": [
      "My Name is Vaishnavi Mahamuni.\n",
      "This is the appended text.\n"
     ]
    }
   ],
   "source": [
    "#2. Write a Python program to read the first n lines of a file.\n",
    "def read_first_n_lines(file_path, n):\n",
    "    with open(file_path, 'r') as file:\n",
    "        lines = [file.readline().strip() for _ in range(n)]\n",
    "    return lines\n",
    "\n",
    "file_path = 'Downloads/Example.txt'\n",
    "n = 2\n",
    "lines = read_first_n_lines(file_path, n)\n",
    "for line in lines:\n",
    "    print(line)\n"
   ]
  },
  {
   "cell_type": "code",
   "execution_count": 14,
   "id": "2a9bc07a-5d55-4363-8cfc-9e0223d78d76",
   "metadata": {},
   "outputs": [
    {
     "name": "stdout",
     "output_type": "stream",
     "text": [
      "My Name is Vaishnavi Mahamuni.\n",
      "This is the appended text.\n",
      "This is the appended text.\n",
      "Let's add a new line to the file\n",
      "\n"
     ]
    }
   ],
   "source": [
    "#3. Write a Python program to append text to a file and display the text.\n",
    "def append_text_to_file(file_path, text):\n",
    "    with open(file_path, 'a') as file:\n",
    "        file.write(text)\n",
    "        file.write('\\n')\n",
    "    \n",
    "    with open(file_path, 'r') as file:\n",
    "        content = file.read()\n",
    "    \n",
    "    return content\n",
    "\n",
    "file_path = 'Downloads/Example.txt'\n",
    "text = \"Let's add a new line to the file\"\n",
    "content = append_text_to_file(file_path, text)\n",
    "print(content)\n"
   ]
  },
  {
   "cell_type": "code",
   "execution_count": 16,
   "id": "0d07a8a8-1df1-4301-b675-8da9bbc9ffe0",
   "metadata": {},
   "outputs": [
    {
     "name": "stdout",
     "output_type": "stream",
     "text": [
      "This is the appended text.\n",
      "Let's add a new line to the file\n"
     ]
    }
   ],
   "source": [
    "#4. Write a Python program to read the last n lines of a file.\n",
    "def read_last_n_lines(file_path, n):\n",
    "    with open(file_path, 'r') as file:\n",
    "        lines = file.readlines()\n",
    "    return lines[-n:]\n",
    "\n",
    "file_path = 'Downloads/Example.txt'\n",
    "n = 2\n",
    "lines = read_last_n_lines(file_path, n)\n",
    "for line in lines:\n",
    "    print(line.strip())\n"
   ]
  },
  {
   "cell_type": "code",
   "execution_count": 17,
   "id": "cc90ffe1-4090-44e5-8108-abaa7ee2b3b2",
   "metadata": {},
   "outputs": [
    {
     "name": "stdout",
     "output_type": "stream",
     "text": [
      "['My Name is Vaishnavi Mahamuni.', 'This is the appended text.', 'This is the appended text.', \"Let's add a new line to the file\"]\n"
     ]
    }
   ],
   "source": [
    "#5. Write a Python program to read a file line by line and store it into a list.\n",
    "def read_file_to_list(file_path):\n",
    "    with open(file_path, 'r') as file:\n",
    "        lines = file.readlines()\n",
    "    return [line.strip() for line in lines]\n",
    "\n",
    "file_path = 'Downloads/Example.txt'\n",
    "lines = read_file_to_list(file_path)\n",
    "print(lines)\n"
   ]
  },
  {
   "cell_type": "code",
   "execution_count": 18,
   "id": "6dca7ab3-62a1-4240-9bd5-eb3dc9362d56",
   "metadata": {},
   "outputs": [
    {
     "name": "stdout",
     "output_type": "stream",
     "text": [
      "My Name is Vaishnavi Mahamuni.\n",
      "This is the appended text.\n",
      "This is the appended text.\n",
      "Let's add a new line to the file\n",
      "\n"
     ]
    }
   ],
   "source": [
    "#6. Write a Python program to read a file line by line and store it into a variable.\n",
    "def read_file_to_variable(file_path):\n",
    "    with open(file_path, 'r') as file:\n",
    "        lines = file.readlines()\n",
    "    return ''.join(lines)\n",
    "file_path = 'Downloads/Example.txt'\n",
    "content = read_file_to_variable(file_path)\n",
    "print(content)\n"
   ]
  },
  {
   "cell_type": "code",
   "execution_count": 19,
   "id": "d4bc15ec-456b-4428-a8bd-7c36358dc52a",
   "metadata": {},
   "outputs": [
    {
     "name": "stdout",
     "output_type": "stream",
     "text": [
      "['My Name is Vaishnavi Mahamuni.', 'This is the appended text.', 'This is the appended text.', \"Let's add a new line to the file\"]\n"
     ]
    }
   ],
   "source": [
    "#7. Write a Python program to read a file line by line and store it into an array.\n",
    "def read_file_to_array(file_path):\n",
    "    with open(file_path, 'r') as file:\n",
    "        lines = file.readlines()\n",
    "    return [line.strip() for line in lines]\n",
    "\n",
    "file_path = 'Downloads/Example.txt'\n",
    "array = read_file_to_array(file_path)\n",
    "print(array)\n"
   ]
  },
  {
   "cell_type": "code",
   "execution_count": 20,
   "id": "e704df7d-789a-4678-a8db-15823307fe07",
   "metadata": {},
   "outputs": [
    {
     "name": "stdout",
     "output_type": "stream",
     "text": [
      "['Vaishnavi', 'Mahamuni.']\n"
     ]
    }
   ],
   "source": [
    "#1. Write a python program to find the longest words.\n",
    "def find_longest_words(file_path):\n",
    "    with open(file_path, 'r') as file:\n",
    "        words = file.read().split()\n",
    "    \n",
    "    max_len = len(max(words, key=len))\n",
    "    longest_words = [word for word in words if len(word) == max_len]\n",
    "    \n",
    "    return longest_words\n",
    "\n",
    "file_path = 'Downloads/Example.txt'\n",
    "longest_words = find_longest_words(file_path)\n",
    "print(longest_words)\n"
   ]
  },
  {
   "cell_type": "code",
   "execution_count": 21,
   "id": "e6942bf8-b4b6-4cef-8537-3a19f6d20cd9",
   "metadata": {},
   "outputs": [
    {
     "name": "stdout",
     "output_type": "stream",
     "text": [
      "Number of lines: 4\n"
     ]
    }
   ],
   "source": [
    "#2. Write a Python program to count the number of lines in a text file.\n",
    "def count_lines_in_file(file_path):\n",
    "    with open(file_path, 'r') as file:\n",
    "        lines = file.readlines()\n",
    "    return len(lines)\n",
    "\n",
    "file_path = 'Downloads/Example.txt'\n",
    "num_lines = count_lines_in_file(file_path)\n",
    "print(f\"Number of lines: {num_lines}\")\n"
   ]
  },
  {
   "cell_type": "code",
   "execution_count": 22,
   "id": "9960b283-796d-41f8-bb99-26a90394c169",
   "metadata": {},
   "outputs": [
    {
     "name": "stdout",
     "output_type": "stream",
     "text": [
      "Counter({'is': 3, 'the': 3, 'This': 2, 'appended': 2, 'text.': 2, 'My': 1, 'Name': 1, 'Vaishnavi': 1, 'Mahamuni.': 1, \"Let's\": 1, 'add': 1, 'a': 1, 'new': 1, 'line': 1, 'to': 1, 'file': 1})\n"
     ]
    }
   ],
   "source": [
    "#3. Write a Python program to count the frequency of words in a file\n",
    "from collections import Counter\n",
    "\n",
    "def word_frequency(file_path):\n",
    "    with open(file_path, 'r') as file:\n",
    "        words = file.read().split()\n",
    "    return Counter(words)\n",
    "file_path = 'Downloads/Example.txt'\n",
    "freq = word_frequency(file_path)\n",
    "print(freq)\n"
   ]
  },
  {
   "cell_type": "code",
   "execution_count": 23,
   "id": "7da79da9-dd63-4f0b-9e54-eff844b5d4a6",
   "metadata": {},
   "outputs": [
    {
     "name": "stdout",
     "output_type": "stream",
     "text": [
      "File size: 122 bytes\n"
     ]
    }
   ],
   "source": [
    "#4. Write a Python program to get the file size of a plain file.\n",
    "import os\n",
    "def get_file_size(file_path):\n",
    "    return os.path.getsize(file_path)\n",
    "file_path = 'Downloads/Example.txt'\n",
    "size = get_file_size(file_path)\n",
    "print(f\"File size: {size} bytes\")\n"
   ]
  },
  {
   "cell_type": "code",
   "execution_count": 24,
   "id": "cb5063ae-ad2e-4307-91c1-65667e596d96",
   "metadata": {},
   "outputs": [],
   "source": [
    "#5. Write a Python program to write a list to a file.\n",
    "def write_list_to_file(file_path, lst):\n",
    "    with open(file_path, 'w') as file:\n",
    "        for item in lst:\n",
    "            file.write(f\"{item}\\n\")\n",
    "\n",
    "file_path = 'Downloads/Example.txt'\n",
    "lst = ['apple', 'banana', 'cherry']\n",
    "write_list_to_file(file_path, lst)\n"
   ]
  },
  {
   "cell_type": "code",
   "execution_count": 27,
   "id": "17459049-c1a5-450c-9343-c76bbceeccc2",
   "metadata": {},
   "outputs": [],
   "source": [
    "#14. Write a Python program to combine each line from the first file with the corresponding line in the second file.\n",
    "def combine_files(file1, file2, output_file):\n",
    "    with open(file1, 'r') as f1, open(file2, 'r') as f2, open(output_file, 'w') as out:\n",
    "        for line1, line2 in zip(f1, f2):\n",
    "            out.write(f\"{line1.strip()} {line2.strip()}\\n\")\n",
    "file1 = 'Downloads/Example1.txt'\n",
    "file2 = 'Downloads/Example2.txt'\n",
    "output_file = 'Downloads/combined.txt'\n",
    "combine_files(file1, file2, output_file)\n"
   ]
  },
  {
   "cell_type": "code",
   "execution_count": 28,
   "id": "4f030c64-4f12-42c6-ab6c-da078f8144c4",
   "metadata": {},
   "outputs": [],
   "source": [
    "#13. Write a Python program to remove newline characters from a file.\n",
    "def remove_newlines(file_path):\n",
    "    with open(file_path, 'r') as file:\n",
    "        lines = file.read().splitlines()\n",
    "    \n",
    "    with open(file_path, 'w') as file:\n",
    "        for line in lines:\n",
    "            file.write(line + ' ')\n",
    "\n",
    "file_path = 'Downloads/combined.txt'\n",
    "remove_newlines(file_path)\n"
   ]
  },
  {
   "cell_type": "code",
   "execution_count": 29,
   "id": "f529a921-0712-4a31-b8e5-6fe88c88266d",
   "metadata": {},
   "outputs": [
    {
     "name": "stdout",
     "output_type": "stream",
     "text": [
      "Number of words: 14\n"
     ]
    }
   ],
   "source": [
    "#14. Write a Python program that takes a text file as input and returns the number of words in the given text file.\n",
    "def count_words_in_file(file_path):\n",
    "    with open(file_path, 'r') as file:\n",
    "        words = file.read().split()\n",
    "    return len(words)\n",
    "\n",
    "file_path = 'Downloads/combined.txt'\n",
    "num_words = count_words_in_file(file_path)\n",
    "print(f\"Number of words: {num_words}\")\n"
   ]
  },
  {
   "cell_type": "code",
   "execution_count": 30,
   "id": "80846cf9-6933-4fae-96ef-9d7dbd9bee9f",
   "metadata": {},
   "outputs": [
    {
     "name": "stdout",
     "output_type": "stream",
     "text": [
      "['H', 'e', 'l', 'l', 'o', ',', ' ', 'M', 'y', ' ', 'n', 'a', 'm', 'e', ' ', 'i', 's', ' ', 'V', 'a', 'i', 's', 'h', 'n', 'a', 'v', 'i', ' ', 'M', 'a', 'h', 'a', 'm', 'u', 'n', 'i', 'I', ' ', 'a', 'm', ' ', 'a', ' ', 'D', 'a', 't', 'a', ' ', 'A', 'n', 'a', 'l', 'y', 's', 't', ' ', 'a', 'n', 'd', ' ', 'B', 'u', 's', 'i', 'n', 'e', 's', 's', ' ', 'A', 'n', 'a', 'l', 'y', 's', 't', ',']\n"
     ]
    }
   ],
   "source": [
    "#15. Write a Python program to extract characters from various text files and put them into a list.\n",
    "def extract_characters(files):\n",
    "    characters = []\n",
    "    for file_path in files:\n",
    "        with open(file_path, 'r') as file:\n",
    "            characters.extend(list(file.read()))\n",
    "    return characters\n",
    "\n",
    "files = ['Downloads/Example1.txt', 'Downloads/Example2.txt']\n",
    "characters = extract_characters(files)\n",
    "print(characters)\n"
   ]
  },
  {
   "cell_type": "code",
   "execution_count": 31,
   "id": "9497c945-de79-4a77-b97d-f0fb2a155abf",
   "metadata": {},
   "outputs": [
    {
     "name": "stdout",
     "output_type": "stream",
     "text": [
      "Current time: 21:07:46\n"
     ]
    }
   ],
   "source": [
    "#16. Write a Python program to get the current time.\n",
    "from datetime import datetime\n",
    "\n",
    "def get_current_time():\n",
    "    now = datetime.now()\n",
    "    return now.strftime(\"%H:%M:%S\")\n",
    "current_time = get_current_time()\n",
    "print(f\"Current time: {current_time}\")\n"
   ]
  },
  {
   "cell_type": "code",
   "execution_count": 32,
   "id": "07e56491-15c9-40a9-9a3f-67b758a7f202",
   "metadata": {},
   "outputs": [
    {
     "name": "stdout",
     "output_type": "stream",
     "text": [
      "Yesterday: 2024-06-29\n",
      "Today: 2024-06-30\n",
      "Tomorrow: 2024-07-01\n"
     ]
    }
   ],
   "source": [
    "#20. Write a Python program to find yesterday’s, today’s, and tomorrow’s date.\n",
    "from datetime import date, timedelta\n",
    "\n",
    "def get_relative_dates():\n",
    "    today = date.today()\n",
    "    yesterday = today - timedelta(days=1)\n",
    "    tomorrow = today + timedelta(days=1)\n",
    "    return yesterday, today, tomorrow\n",
    "\n",
    "yesterday, today, tomorrow = get_relative_dates()\n",
    "print(f\"Yesterday: {yesterday}\")\n",
    "print(f\"Today: {today}\")\n",
    "print(f\"Tomorrow: {tomorrow}\")\n"
   ]
  },
  {
   "cell_type": "code",
   "execution_count": 33,
   "id": "910fa3d1-3184-46e3-9a95-0a4231cbf66f",
   "metadata": {},
   "outputs": [
    {
     "name": "stdout",
     "output_type": "stream",
     "text": [
      "24-hour format: 14:30\n"
     ]
    }
   ],
   "source": [
    "#21. Write a Python program to convert time from 12-hour to 24-hour format.\n",
    "\n",
    "from datetime import datetime\n",
    "\n",
    "def convert_to_24_hour(time_str):\n",
    "    return datetime.strptime(time_str, \"%I:%M %p\").strftime(\"%H:%M\")\n",
    "\n",
    "time_12_hour = \"02:30 PM\"\n",
    "time_24_hour = convert_to_24_hour(time_12_hour)\n",
    "print(f\"24-hour format: {time_24_hour}\")\n"
   ]
  },
  {
   "cell_type": "code",
   "execution_count": 34,
   "id": "b1c4b434-e1d5-43ec-8af1-0089b321d928",
   "metadata": {},
   "outputs": [
    {
     "name": "stdout",
     "output_type": "stream",
     "text": [
      "Time difference: 366 days, 6:39:29.272973\n"
     ]
    }
   ],
   "source": [
    "#22. Write a Python program to find the difference between the current time and a given time.\n",
    "from datetime import datetime\n",
    "\n",
    "def time_difference(time_str):\n",
    "    current_time = datetime.now()\n",
    "    given_time = datetime.strptime(time_str, \"%Y-%m-%d %H:%M:%S\")\n",
    "    difference = current_time - given_time\n",
    "    return difference\n",
    "\n",
    "given_time_str = \"2023-06-30 14:30:00\"\n",
    "difference = time_difference(given_time_str)\n",
    "print(f\"Time difference: {difference}\")\n"
   ]
  },
  {
   "cell_type": "code",
   "execution_count": 35,
   "id": "40d01ad0-9c8a-496e-91fb-8a816adf8ce3",
   "metadata": {},
   "outputs": [
    {
     "name": "stdout",
     "output_type": "stream",
     "text": [
      "Lap 1: 1.0003492832183838 seconds\n",
      "Lap 2: 2.0008835792541504 seconds\n",
      "All laps: [1.0003492832183838, 2.0008835792541504]\n"
     ]
    }
   ],
   "source": [
    "#18. Write a Python program to create a lap timer.\n",
    "import time\n",
    "\n",
    "class LapTimer:\n",
    "    def __init__(self):\n",
    "        self.start_time = time.time()\n",
    "        self.laps = []\n",
    "\n",
    "    def lap(self):\n",
    "        lap_time = time.time() - self.start_time\n",
    "        self.laps.append(lap_time)\n",
    "        self.start_time = time.time()\n",
    "        return lap_time\n",
    "\n",
    "    def get_laps(self):\n",
    "        return self.laps\n",
    "\n",
    "timer = LapTimer()\n",
    "time.sleep(1)\n",
    "print(f\"Lap 1: {timer.lap()} seconds\")\n",
    "time.sleep(2)\n",
    "print(f\"Lap 2: {timer.lap()} seconds\")\n",
    "print(f\"All laps: {timer.get_laps()}\")\n"
   ]
  },
  {
   "cell_type": "code",
   "execution_count": 36,
   "id": "bb5baf8a-0ba1-442b-b359-46be5e5b4503",
   "metadata": {},
   "outputs": [
    {
     "name": "stdout",
     "output_type": "stream",
     "text": [
      "Timestamp: 1688115600\n"
     ]
    }
   ],
   "source": [
    "#19. Convert date string to timestamp in Python.\n",
    "from datetime import datetime\n",
    "\n",
    "def date_to_timestamp(date_str, format_str=\"%Y-%m-%d %H:%M:%S\"):\n",
    "    return int(datetime.strptime(date_str, format_str).timestamp())\n",
    "date_str = \"2023-06-30 14:30:00\"\n",
    "timestamp = date_to_timestamp(date_str)\n",
    "print(f\"Timestamp: {timestamp}\")\n"
   ]
  },
  {
   "cell_type": "code",
   "execution_count": 5,
   "id": "d71bdff6-ac8b-4b71-9caf-d80f0367b961",
   "metadata": {},
   "outputs": [
    {
     "name": "stdout",
     "output_type": "stream",
     "text": [
      "Counter({'Monday': 53, 'Tuesday': 53, 'Wednesday': 52, 'Thursday': 52, 'Friday': 52, 'Saturday': 52, 'Sunday': 52})\n"
     ]
    }
   ],
   "source": [
    "#25. Find the number of times every day occurs in a year.\n",
    "from collections import Counter\n",
    "from datetime import date, timedelta\n",
    "\n",
    "def count_days_in_year(year):\n",
    "    start_date = date(year, 1, 1)\n",
    "    end_date = date(year, 12, 31)\n",
    "    day_counts = Counter()\n",
    "    \n",
    "    current_date = start_date\n",
    "    while current_date <= end_date:\n",
    "        day_counts[current_date.strftime(\"%A\")] += 1\n",
    "        current_date += timedelta(days=1)\n",
    "    \n",
    "    return day_counts\n",
    "\n",
    "year = 2024\n",
    "day_counts = count_days_in_year(year)\n",
    "print(day_counts)\n"
   ]
  },
  {
   "cell_type": "code",
   "execution_count": 4,
   "id": "800bf197-c70d-478f-a427-5efd9397d89d",
   "metadata": {},
   "outputs": [
    {
     "name": "stdout",
     "output_type": "stream",
     "text": [
      "Error: Cannot divide by zero.\n",
      "1000000000000\n"
     ]
    }
   ],
   "source": [
    "'''Assignment 2:\n",
    "SET A\n",
    "1. Write a Python program to demonstrate the zero division error and overflow error.'''\n",
    "try:\n",
    "  # Zero division error\n",
    "  result = 10 / 0\n",
    "  print(result)\n",
    "except ZeroDivisionError:\n",
    "  print(\"Error: Cannot divide by zero.\")\n",
    "\n",
    "try:\n",
    "  large_number = 10000 * 10000 * 10000\n",
    "  print(large_number) \n",
    "except OverflowError:\n",
    "  print(\"Error: Result is too large.\")\n"
   ]
  },
  {
   "cell_type": "code",
   "execution_count": 3,
   "id": "0a39e412-6a1b-44ea-84ab-34b3adbd87ed",
   "metadata": {},
   "outputs": [
    {
     "name": "stdout",
     "output_type": "stream",
     "text": [
      "[]\n"
     ]
    }
   ],
   "source": [
    "#2. Write a Python program to find sequences of lowercase letters joined with an underscore.\n",
    "import re\n",
    "\n",
    "def find_sequences(text):\n",
    "    pattern = r'[a-z]+_[a-z]+'\n",
    "    return re.findall(pattern, text)\n",
    "\n",
    "text = \"Downloads/Example1.txt\"\n",
    "sequences = find_sequences(text)\n",
    "print(sequences)\n"
   ]
  },
  {
   "cell_type": "code",
   "execution_count": 2,
   "id": "6fd6c99d-61e5-496f-9f06-569196ef8fd3",
   "metadata": {},
   "outputs": [
    {
     "name": "stdout",
     "output_type": "stream",
     "text": [
      "True\n"
     ]
    }
   ],
   "source": [
    "#3. Write a Python program to check if a string contains only defined characters using regex.\n",
    "import re\n",
    "\n",
    "def check_defined_characters(text, allowed_chars):\n",
    "    pattern = f'^[{allowed_chars}]+$'\n",
    "    return bool(re.match(pattern, text))\n",
    "\n",
    "text = \"hello123\"\n",
    "allowed_chars = \"a-zA-Z0-9\"\n",
    "is_valid = check_defined_characters(text, allowed_chars)\n",
    "print(is_valid)\n"
   ]
  },
  {
   "cell_type": "code",
   "execution_count": 1,
   "id": "ef62c1fd-95a0-48ed-a0f2-13b2461aed27",
   "metadata": {},
   "outputs": [
    {
     "name": "stdout",
     "output_type": "stream",
     "text": [
      "True\n"
     ]
    }
   ],
   "source": [
    "'''SET B\n",
    "1. Write a Python program to match a string that contains only upper and lowercase letters, numbers, and underscores.'''\n",
    "import re\n",
    "\n",
    "def match_string(text):\n",
    "    pattern = r'^[A-Za-z0-9_]+$'\n",
    "    return bool(re.match(pattern, text))\n",
    "text = \"Valid_String123\"\n",
    "is_valid = match_string(text)\n",
    "print(is_valid)\n"
   ]
  },
  {
   "cell_type": "code",
   "execution_count": 15,
   "id": "5b5aafef-d8f2-4f76-936b-115e429ee50a",
   "metadata": {},
   "outputs": [
    {
     "name": "stdout",
     "output_type": "stream",
     "text": [
      "Error: Object has no attribute named 'attribute'.\n"
     ]
    }
   ],
   "source": [
    "#2. Write a Python program to raise an attribute error if a class object has no attribute with the name attribute.\n",
    "class MyClass:\n",
    "\n",
    "    def check_attribute(self, obj):\n",
    "        try:\n",
    "            value = obj.attribute\n",
    "        except AttributeError:\n",
    "            print(\"Error: Object has no attribute named 'attribute'.\")\n",
    "        else:\n",
    "            print(f\"The attribute 'attribute' has the value: {value}\")\n",
    "my_object = MyClass()\n",
    "my_object.check_attribute(my_object) "
   ]
  },
  {
   "cell_type": "code",
   "execution_count": 16,
   "id": "5aae3c86-f412-4933-9d99-7942b4b3cd0e",
   "metadata": {},
   "outputs": [
    {
     "name": "stdout",
     "output_type": "stream",
     "text": [
      "this is a test only\n"
     ]
    }
   ],
   "source": [
    "#3. Write a Python program to remove duplicate words from a sentence.\n",
    "def remove_duplicate_words(sentence):\n",
    "    words = sentence.split()\n",
    "    unique_words = list(dict.fromkeys(words))\n",
    "    return ' '.join(unique_words)\n",
    "sentence = \"this is a test this is only a test\"\n",
    "result = remove_duplicate_words(sentence)\n",
    "print(result)\n"
   ]
  },
  {
   "cell_type": "code",
   "execution_count": 17,
   "id": "217c9b9d-a142-408f-813f-99461122abd0",
   "metadata": {},
   "outputs": [
    {
     "name": "stdout",
     "output_type": "stream",
     "text": [
      "HelloWorld123\n"
     ]
    }
   ],
   "source": [
    "#4. Write a Python program to remove all characters except letters and numbers.\n",
    "import re\n",
    "\n",
    "def remove_special_characters(text):\n",
    "    return re.sub(r'[^A-Za-z0-9]', '', text)\n",
    "text = \"Hello, World! 123\"\n",
    "cleaned_text = remove_special_characters(text)\n",
    "print(cleaned_text)\n"
   ]
  },
  {
   "cell_type": "code",
   "execution_count": 18,
   "id": "3a3c2ce5-cc05-44a8-88d6-13d20e241c1f",
   "metadata": {},
   "outputs": [
    {
     "name": "stdout",
     "output_type": "stream",
     "text": [
      "Uppercase: 2, Lowercase: 8, Digits: 3, Special characters: 4\n"
     ]
    }
   ],
   "source": [
    "'''PROGRAMS FOR PRACTICE\n",
    "1. Write a Python program to count uppercase, lowercase, special characters, and numeric values using regex.'''\n",
    "\n",
    "import re\n",
    "\n",
    "def count_characters(text):\n",
    "    upper_case = len(re.findall(r'[A-Z]', text))\n",
    "    lower_case = len(re.findall(r'[a-z]', text))\n",
    "    digits = len(re.findall(r'[0-9]', text))\n",
    "    special_chars = len(re.findall(r'[^A-Za-z0-9]', text))\n",
    "    \n",
    "    return upper_case, lower_case, digits, special_chars\n",
    "text = \"Hello, World! 123\"\n",
    "upper, lower, digits, special = count_characters(text)\n",
    "print(f\"Uppercase: {upper}, Lowercase: {lower}, Digits: {digits}, Special characters: {special}\")\n"
   ]
  },
  {
   "cell_type": "code",
   "execution_count": 19,
   "id": "8b51d374-fea9-4318-bb9e-00f1d00383e7",
   "metadata": {},
   "outputs": [
    {
     "name": "stdout",
     "output_type": "stream",
     "text": [
      "Most occurring number: 123 with frequency 3\n"
     ]
    }
   ],
   "source": [
    "#2. Write a Python program to find the most occurring number in a string using regex.\n",
    "import re\n",
    "from collections import Counter\n",
    "\n",
    "def most_occurring_number(text):\n",
    "    numbers = re.findall(r'\\d+', text)\n",
    "    if numbers:\n",
    "        most_common = Counter(numbers).most_common(1)[0]\n",
    "        return most_common[0], most_common[1]\n",
    "    return None, 0\n",
    "text = \"123 456 789 123 123 456\"\n",
    "number, frequency = most_occurring_number(text)\n",
    "print(f\"Most occurring number: {number} with frequency {frequency}\")\n"
   ]
  },
  {
   "cell_type": "code",
   "execution_count": 20,
   "id": "044d4e26-bc55-4144-9479-380870bf9f45",
   "metadata": {},
   "outputs": [
    {
     "name": "stdout",
     "output_type": "stream",
     "text": [
      "Maximum numeric value: 987\n"
     ]
    }
   ],
   "source": [
    "#3. Write a Python regex to extract the maximum numeric value from a string.\n",
    "import re\n",
    "\n",
    "def extract_max_number(text):\n",
    "    numbers = re.findall(r'\\d+', text)\n",
    "    if numbers:\n",
    "        return max(map(int, numbers))\n",
    "    return None\n",
    "text = \"The values are 123, 456, 789, and 987.\"\n",
    "max_number = extract_max_number(text)\n",
    "print(f\"Maximum numeric value: {max_number}\")"
   ]
  },
  {
   "cell_type": "code",
   "execution_count": 21,
   "id": "1f43131d-c5b2-4bfc-8a9a-0f0cc291784d",
   "metadata": {},
   "outputs": [
    {
     "name": "stdout",
     "output_type": "stream",
     "text": [
      "This Is A String With Capital Letters\n"
     ]
    }
   ],
   "source": [
    "#4. Write a Python program to put spaces between words starting with capital letters using regex.\n",
    "import re\n",
    "\n",
    "def insert_spaces(text):\n",
    "    return re.sub(r'(?<!^)(?=[A-Z])', ' ', text)\n",
    "text = \"ThisIsAStringWithCapitalLetters\"\n",
    "result = insert_spaces(text)\n",
    "print(result)\n"
   ]
  },
  {
   "cell_type": "code",
   "execution_count": 23,
   "id": "51d3b35e-674f-440c-bfbf-8d63c0affc48",
   "metadata": {},
   "outputs": [
    {
     "name": "stdout",
     "output_type": "stream",
     "text": [
      "'hello' starts and ends the same: False\n",
      "'world!' starts and ends the same: False\n",
      "'Python' starts and ends the same: False\n",
      "'' starts and ends the same: False\n",
      "'radar' starts and ends the same: True\n"
     ]
    }
   ],
   "source": [
    "#5. Write a Python program to check whether a string starts and ends with the same character or not.\n",
    "def check_same_start_end(text):\n",
    "  if not text:\n",
    "    return False \n",
    "  return text[0] == text[-1]\n",
    "strings = [\"hello\", \"world!\", \"Python\", \"\", \"radar\"]\n",
    "for string in strings:\n",
    "  result = check_same_start_end(string)\n",
    "  print(f\"'{string}' starts and ends the same: {result}\")\n"
   ]
  },
  {
   "cell_type": "code",
   "execution_count": 24,
   "id": "bfd2315b-9e46-4d6f-bc9c-7f143aac21c4",
   "metadata": {},
   "outputs": [
    {
     "name": "stdout",
     "output_type": "stream",
     "text": [
      "['Hello', 'World', 'Example', 'Test']\n"
     ]
    }
   ],
   "source": [
    "#6. Write a Python regex program to find sequences of one upper case letter followed by lower case letters.\n",
    "import re\n",
    "\n",
    "def find_uppercase_sequences(text):\n",
    "    pattern = r'[A-Z][a-z]+'\n",
    "    return re.findall(pattern, text)\n",
    "text = \"HelloWorld ExampleTest\"\n",
    "sequences = find_uppercase_sequences(text)\n",
    "print(sequences)\n"
   ]
  },
  {
   "cell_type": "code",
   "execution_count": 25,
   "id": "3c7ed407-9bac-47e5-838e-cc9ad640ac26",
   "metadata": {},
   "outputs": [
    {
     "name": "stdout",
     "output_type": "stream",
     "text": [
      "True\n"
     ]
    }
   ],
   "source": [
    "#7. Write a Python regex program to accept strings ending with an alphanumeric character.\n",
    "import re\n",
    "\n",
    "def ends_with_alphanumeric(text):\n",
    "    pattern = r'.*[a-zA-Z0-9]$'\n",
    "    return bool(re.match(pattern, text))\n",
    "text = \"Hello123\"\n",
    "result = ends_with_alphanumeric(text)\n",
    "print(result)\n"
   ]
  },
  {
   "cell_type": "code",
   "execution_count": 26,
   "id": "1da5ae64-d781-43b6-a2f6-aac45f977762",
   "metadata": {},
   "outputs": [
    {
     "name": "stdout",
     "output_type": "stream",
     "text": [
      "True\n"
     ]
    }
   ],
   "source": [
    "#8. Write a Python regex program to accept strings starting with a vowel.\n",
    "import re\n",
    "\n",
    "def starts_with_vowel(text):\n",
    "    pattern = r'^[AEIOUaeiou]'\n",
    "    return bool(re.match(pattern, text))\n",
    "text = \"Example\"\n",
    "result = starts_with_vowel(text)\n",
    "print(result)\n"
   ]
  },
  {
   "cell_type": "code",
   "execution_count": 27,
   "id": "179f7261-5eed-4c83-89c3-6438df702857",
   "metadata": {},
   "outputs": [
    {
     "name": "stdout",
     "output_type": "stream",
     "text": [
      "True\n"
     ]
    }
   ],
   "source": [
    "#9. Write a Python program to check if a string starts with a substring using regex\n",
    "import re\n",
    "\n",
    "def starts_with_substring(text, substring):\n",
    "    pattern = f'^{re.escape(substring)}'\n",
    "    return bool(re.match(pattern, text))\n",
    "\n",
    "text = \"HelloWorld\"\n",
    "substring = \"Hello\"\n",
    "result = starts_with_substring(text, substring)\n",
    "print(result)\n"
   ]
  },
  {
   "cell_type": "code",
   "execution_count": 29,
   "id": "adc5d193-0b5b-4c78-9521-a7b6494e5765",
   "metadata": {},
   "outputs": [
    {
     "name": "stdout",
     "output_type": "stream",
     "text": [
      "True\n"
     ]
    }
   ],
   "source": [
    "#10. Write a Python program to check if a URL is valid or not using a regular expression.\n",
    "import re\n",
    "\n",
    "def is_valid_url(url):\n",
    "    pattern = re.compile(\n",
    "        r'^(?:http|ftp)s?://' \n",
    "        r'(?:(?:[A-Z0-9](?:[A-Z0-9-]{0,61}[A-Z0-9])?\\.)+(?:[A-Z]{2,6}\\.?|[A-Z0-9-]{2,}\\.?)|'  \n",
    "        r'localhost|' \n",
    "        r'\\d{1,3}\\.\\d{1,3}\\.\\d{1,3}\\.\\d{1,3}|'\n",
    "        r'\\[?[A-F0-9]*:[A-F0-9:]+\\]?)'  \n",
    "        r'(?::\\d+)?' \n",
    "        r'(?:/?|[/?]\\S+)$', re.IGNORECASE)\n",
    "    return re.match(pattern, url) is not None\n",
    "url = \"http://www.example.com\"\n",
    "result = is_valid_url(url)\n",
    "print(result)\n"
   ]
  },
  {
   "cell_type": "code",
   "execution_count": 31,
   "id": "e25aee07-4901-41fc-9950-364488b2b188",
   "metadata": {},
   "outputs": [
    {
     "name": "stdout",
     "output_type": "stream",
     "text": [
      "{'scheme': 'https', 'host': 'www.example.com', 'port': '80', 'path': '/path?query=123#fragment', 'query': None, 'fragment': None}\n"
     ]
    }
   ],
   "source": [
    "#11. Write a Python program to parse and process a URL using Python – Regex.\n",
    "import re\n",
    "\n",
    "def parse_url(url):\n",
    "    pattern = re.compile(\n",
    "        r'^(?P<scheme>http|https|ftp)://'  \n",
    "        r'(?P<host>[^:/\\s]+)'  \n",
    "        r'(?::(?P<port>\\d+))?'  \n",
    "        r'(?P<path>/[^\\s]*)?'  \n",
    "        r'(?:\\?(?P<query>[^\\s#]*))?'  \n",
    "        r'(?:#(?P<fragment>[^\\s]*))?$',  \n",
    "        re.IGNORECASE)\n",
    "    match = re.match(pattern, url)\n",
    "    return match.groupdict() if match else None\n",
    "\n",
    "url = \"https://www.example.com:80/path?query=123#fragment\"\n",
    "parsed_url = parse_url(url)\n",
    "print(parsed_url)\n"
   ]
  },
  {
   "cell_type": "code",
   "execution_count": 34,
   "id": "4b115d65-b931-447d-a894-69829219c0dc",
   "metadata": {},
   "outputs": [
    {
     "name": "stdout",
     "output_type": "stream",
     "text": [
      "True\n"
     ]
    }
   ],
   "source": [
    "#12. Write a Python program to validate an IP address using regex.\n",
    "import re\n",
    "\n",
    "def is_valid_ip(ip):\n",
    "    pattern = re.compile(\n",
    "        r'^(?:[0-9]{1,3}\\.){3}[0-9]{1,3}$')\n",
    "    return re.match(pattern, ip) is not None\n",
    "ip = \"192.168.0.16\"\n",
    "result = is_valid_ip(ip)\n",
    "print(result)\n"
   ]
  },
  {
   "cell_type": "code",
   "execution_count": 35,
   "id": "8414300e-4647-4c53-ac05-8fbc3093f77d",
   "metadata": {},
   "outputs": [
    {
     "name": "stdout",
     "output_type": "stream",
     "text": [
      "True\n"
     ]
    }
   ],
   "source": [
    "#13. Write a Python program to check if an email address is valid or not.\n",
    "import re\n",
    "\n",
    "def is_valid_email(email):\n",
    "    pattern = re.compile(\n",
    "        r'^[a-zA-Z0-9_.+-]+@[a-zA-Z0-9-]+\\.[a-zA-Z0-9-.]+$')\n",
    "    return re.match(pattern, email) is not None\n",
    "email = \"example@example.com\"\n",
    "result = is_valid_email(email)\n",
    "print(result)\n"
   ]
  },
  {
   "cell_type": "code",
   "execution_count": 36,
   "id": "268d25a6-dda7-473d-8367-105af05070e9",
   "metadata": {},
   "outputs": [
    {
     "name": "stdout",
     "output_type": "stream",
     "text": [
      "['combined.txt']\n"
     ]
    }
   ],
   "source": [
    "#14. Write a Python program to find files having a particular extension using regex.\n",
    "import re\n",
    "import os\n",
    "\n",
    "def find_files_with_extension(directory, extension):\n",
    "    pattern = re.compile(f'.*\\\\.{extension}$')\n",
    "    return [f for f in os.listdir(directory) if re.match(pattern, f)]\n",
    "directory = '.'\n",
    "extension = 'txt'\n",
    "files = find_files_with_extension(directory, extension)\n",
    "print(files)\n"
   ]
  },
  {
   "cell_type": "code",
   "execution_count": 39,
   "id": "91d1aea9-46b7-4b7f-a46b-91ff4fe0ecd4",
   "metadata": {},
   "outputs": [
    {
     "name": "stdout",
     "output_type": "stream",
     "text": [
      "['192.168.0.16']\n"
     ]
    }
   ],
   "source": [
    "#15. Write a Python program to extract IP addresses from a file.\n",
    "import re\n",
    "\n",
    "def extract_ips(file_path):\n",
    "    with open(file_path, 'r') as file:\n",
    "        content = file.read()\n",
    "    pattern = re.compile(r'\\b(?:[0-9]{1,3}\\.){3}[0-9]{1,3}\\b')\n",
    "    return pattern.findall(content)\n",
    "file_path = 'Downloads/Example1.txt'\n",
    "ips = extract_ips(file_path)\n",
    "print(ips)\n"
   ]
  },
  {
   "cell_type": "code",
   "execution_count": 40,
   "id": "eb389395-59d1-4661-a3db-15b732352a4d",
   "metadata": {},
   "outputs": [
    {
     "name": "stdout",
     "output_type": "stream",
     "text": [
      "True\n"
     ]
    }
   ],
   "source": [
    "#16. Write a Python program to check the validity of a password.\n",
    "import re\n",
    "\n",
    "def is_valid_password(password):\n",
    "    if (len(password) < 8 or not re.search(r'[A-Z]', password) or\n",
    "            not re.search(r'[a-z]', password) or not re.search(r'[0-9]', password) or\n",
    "            not re.search(r'[!@#$%^&*(),.?\":{}|<>]', password)):\n",
    "        return False\n",
    "    return True\n",
    "\n",
    "password = \"Password123!\"\n",
    "result = is_valid_password(password)\n",
    "print(result)\n"
   ]
  },
  {
   "cell_type": "code",
   "execution_count": 41,
   "id": "a6f5fe2b-9acb-48bb-bcc6-8ceaa8d22e3b",
   "metadata": {},
   "outputs": [
    {
     "name": "stdout",
     "output_type": "stream",
     "text": [
      "ZeroDivisionError: division by zero\n"
     ]
    }
   ],
   "source": [
    "'''Common Examples of Exceptions:\n",
    "1. Division by Zero'''\n",
    "try:\n",
    "    result = 1 / 0\n",
    "except ZeroDivisionError as e:\n",
    "    print(\"ZeroDivisionError:\", e)\n"
   ]
  },
  {
   "cell_type": "code",
   "execution_count": 42,
   "id": "fee230ad-d715-437c-9cb5-e3922f5bda3e",
   "metadata": {},
   "outputs": [
    {
     "name": "stdout",
     "output_type": "stream",
     "text": [
      "FileNotFoundError: [Errno 2] No such file or directory: 'non_existent_file.txt'\n"
     ]
    }
   ],
   "source": [
    "#2. Accessing a file which does not exist\n",
    "try:\n",
    "    with open('non_existent_file.txt', 'r') as file:\n",
    "        content = file.read()\n",
    "except FileNotFoundError as e:\n",
    "    print(\"FileNotFoundError:\", e)\n"
   ]
  },
  {
   "cell_type": "code",
   "execution_count": 43,
   "id": "10066f20-e514-4000-8685-4583879d34cd",
   "metadata": {},
   "outputs": [
    {
     "name": "stdout",
     "output_type": "stream",
     "text": [
      "TypeError: can only concatenate str (not \"int\") to str\n"
     ]
    }
   ],
   "source": [
    "#3. Addition of two incompatible types\n",
    "try:\n",
    "    result = 'string' + 5\n",
    "except TypeError as e:\n",
    "    print(\"TypeError:\", e)\n"
   ]
  },
  {
   "cell_type": "code",
   "execution_count": 44,
   "id": "0cdc433b-5b14-4dbe-9476-049d113382cd",
   "metadata": {},
   "outputs": [
    {
     "name": "stdout",
     "output_type": "stream",
     "text": [
      "IndexError: list index out of range\n"
     ]
    }
   ],
   "source": [
    "#4. Trying to access a nonexistent index of a sequence\n",
    "try:\n",
    "    lst = [1, 2, 3]\n",
    "    result = lst[10]\n",
    "except IndexError as e:\n",
    "    print(\"IndexError:\", e)\n"
   ]
  },
  {
   "cell_type": "code",
   "execution_count": 45,
   "id": "00eee8fa-da24-42a9-8597-31f359b803a0",
   "metadata": {},
   "outputs": [],
   "source": [
    "#5. Removing a table from the disconnected database server\n",
    "import sqlite3\n",
    "\n",
    "try:\n",
    "    conn = sqlite3.connect('non_existent_database.db')\n",
    "    cursor = conn.cursor()\n",
    "    cursor.execute('DROP TABLE IF EXISTS some_table')\n",
    "except sqlite3.OperationalError as e:\n",
    "    print(\"OperationalError:\", e)\n",
    "finally:\n",
    "    if conn:\n",
    "        conn.close()\n"
   ]
  },
  {
   "cell_type": "code",
   "execution_count": 46,
   "id": "ece2c163-e1a8-4278-9ae3-b0862a8b6547",
   "metadata": {},
   "outputs": [
    {
     "name": "stdout",
     "output_type": "stream",
     "text": [
      "Insufficient funds in your account.\n"
     ]
    }
   ],
   "source": [
    "#6. ATM withdrawal of more than the available amount\n",
    "class InsufficientFunds(Exception):\n",
    "    pass\n",
    "\n",
    "class ATM:\n",
    "    def __init__(self, balance):\n",
    "        self.balance = balance\n",
    "\n",
    "    def withdraw(self, amount):\n",
    "        if amount > self.balance:\n",
    "            raise InsufficientFunds(\"Insufficient funds in your account.\")\n",
    "        self.balance -= amount\n",
    "        return self.balance\n",
    "atm = ATM(100)\n",
    "try:\n",
    "    atm.withdraw(150)\n",
    "except InsufficientFunds as e:\n",
    "    print(e)\n"
   ]
  },
  {
   "cell_type": "code",
   "execution_count": 47,
   "id": "5a837429-bf0c-4481-a298-fc44ba822481",
   "metadata": {},
   "outputs": [
    {
     "name": "stdout",
     "output_type": "stream",
     "text": [
      "Vehicle: Volvo X90, Year: 2023\n",
      "Capacity: 50 passengers\n"
     ]
    }
   ],
   "source": [
    "'''Assignment 3:\n",
    "1. Create a child class Bus that will inherit all of the variables and methods of the Vehicle class.'''\n",
    "class Vehicle:\n",
    "    def __init__(self, make, model, year):\n",
    "        self.make = make\n",
    "        self.model = model\n",
    "        self.year = year\n",
    "\n",
    "    def display_info(self):\n",
    "        print(f\"Vehicle: {self.make} {self.model}, Year: {self.year}\")\n",
    "class Bus(Vehicle):\n",
    "    def __init__(self, make, model, year, capacity):\n",
    "        super().__init__(make, model, year)\n",
    "        self.capacity = capacity\n",
    "\n",
    "    def display_info(self):\n",
    "        super().display_info()\n",
    "        print(f\"Capacity: {self.capacity} passengers\")\n",
    "\n",
    "bus = Bus(\"Volvo\", \"X90\", 2023, 50)\n",
    "bus.display_info()\n"
   ]
  },
  {
   "cell_type": "code",
   "execution_count": 48,
   "id": "0fa51022-0051-4e61-9971-bc18a7e24284",
   "metadata": {},
   "outputs": [
    {
     "name": "stdout",
     "output_type": "stream",
     "text": [
      "Vehicle: Volvo X90, Year: 2023\n",
      "Capacity: 50 passengers\n",
      "Wheels: 6\n",
      "Vehicle: Mercedes M200, Year: 2024\n",
      "Capacity: 55 passengers\n",
      "Wheels: 6\n"
     ]
    }
   ],
   "source": [
    "#2. Define a property that must have the same value for every class instance (object).\n",
    "class Bus(Vehicle):\n",
    "    wheels = 6  \n",
    "\n",
    "    def __init__(self, make, model, year, capacity):\n",
    "        super().__init__(make, model, year)\n",
    "        self.capacity = capacity\n",
    "\n",
    "    def display_info(self):\n",
    "        super().display_info()\n",
    "        print(f\"Capacity: {self.capacity} passengers\")\n",
    "        print(f\"Wheels: {Bus.wheels}\")\n",
    "\n",
    "# Example usage\n",
    "bus1 = Bus(\"Volvo\", \"X90\", 2023, 50)\n",
    "bus2 = Bus(\"Mercedes\", \"M200\", 2024, 55)\n",
    "bus1.display_info()\n",
    "bus2.display_info()\n"
   ]
  },
  {
   "cell_type": "code",
   "execution_count": 49,
   "id": "2344bce8-313d-49b6-b7fd-f329f86c2fff",
   "metadata": {},
   "outputs": [
    {
     "name": "stdout",
     "output_type": "stream",
     "text": [
      "ID: 1, Name: John Doe, Salary: 50000, Department: IT\n",
      "Total Salary with Bonus: 55000\n",
      "ID: 1, Name: John Doe, Salary: 50000, Department: HR\n"
     ]
    }
   ],
   "source": [
    "#3. Write a Python class Employee with attributes like emp_id, emp_name, emp_salary, and emp_department and methods like calculate_emp_salary, emp_assign_department, and print_employee_details.\n",
    "class Employee:\n",
    "    def __init__(self, emp_id, emp_name, emp_salary, emp_department):\n",
    "        self.emp_id = emp_id\n",
    "        self.emp_name = emp_name\n",
    "        self.emp_salary = emp_salary\n",
    "        self.emp_department = emp_department\n",
    "\n",
    "    def calculate_emp_salary(self, bonus):\n",
    "        return self.emp_salary + bonus\n",
    "\n",
    "    def emp_assign_department(self, new_department):\n",
    "        self.emp_department = new_department\n",
    "\n",
    "    def print_employee_details(self):\n",
    "        print(f\"ID: {self.emp_id}, Name: {self.emp_name}, Salary: {self.emp_salary}, Department: {self.emp_department}\")\n",
    "\n",
    "emp = Employee(1, \"John Doe\", 50000, \"IT\")\n",
    "emp.print_employee_details()\n",
    "print(f\"Total Salary with Bonus: {emp.calculate_emp_salary(5000)}\")\n",
    "emp.emp_assign_department(\"HR\")\n",
    "emp.print_employee_details()\n"
   ]
  },
  {
   "cell_type": "code",
   "execution_count": 50,
   "id": "8cc19ba7-8531-422b-b484-1a3382a74781",
   "metadata": {},
   "outputs": [
    {
     "name": "stdout",
     "output_type": "stream",
     "text": [
      "Menu: {'Pizza': 10, 'Burger': 5}\n",
      "Booked Tables: 3\n",
      "Customer Orders: ['Pizza']\n"
     ]
    }
   ],
   "source": [
    "#4. Write a Python class Restaurant with attributes like menu_items, book_table, and customer_orders, and methods like add_item_to_menu, book_tables, and customer_order.\n",
    "class Restaurant:\n",
    "    def __init__(self):\n",
    "        self.menu_items = {}\n",
    "        self.booked_tables = 0\n",
    "        self.customer_orders = []\n",
    "\n",
    "    def add_item_to_menu(self, item, price):\n",
    "        self.menu_items[item] = price\n",
    "\n",
    "    def book_tables(self, number_of_tables):\n",
    "        self.booked_tables += number_of_tables\n",
    "\n",
    "    def customer_order(self, order):\n",
    "        self.customer_orders.append(order)\n",
    "\n",
    "    def print_details(self):\n",
    "        print(f\"Menu: {self.menu_items}\")\n",
    "        print(f\"Booked Tables: {self.booked_tables}\")\n",
    "        print(f\"Customer Orders: {self.customer_orders}\")\n",
    "\n",
    "restaurant = Restaurant()\n",
    "restaurant.add_item_to_menu(\"Pizza\", 10)\n",
    "restaurant.add_item_to_menu(\"Burger\", 5)\n",
    "restaurant.book_tables(3)\n",
    "restaurant.customer_order(\"Pizza\")\n",
    "restaurant.print_details()\n"
   ]
  },
  {
   "cell_type": "code",
   "execution_count": 51,
   "id": "486b699f-1077-4f39-bfbe-b0afc04e200d",
   "metadata": {},
   "outputs": [
    {
     "name": "stdout",
     "output_type": "stream",
     "text": [
      "Account Number: 123456\n",
      "Customer Name: Alice\n",
      "Balance: 1000\n",
      "Date of Opening: 2022-01-01\n",
      "Current Balance: 1300\n"
     ]
    }
   ],
   "source": [
    "#5. Write a Python class BankAccount with attributes like account_number, balance, date_of_opening, and customer_name, and methods like deposit, withdraw, and check_balance.\n",
    "class BankAccount:\n",
    "    def __init__(self, account_number, customer_name, balance, date_of_opening):\n",
    "        self.account_number = account_number\n",
    "        self.customer_name = customer_name\n",
    "        self.balance = balance\n",
    "        self.date_of_opening = date_of_opening\n",
    "\n",
    "    def deposit(self, amount):\n",
    "        self.balance += amount\n",
    "\n",
    "    def withdraw(self, amount):\n",
    "        if amount <= self.balance:\n",
    "            self.balance -= amount\n",
    "        else:\n",
    "            print(\"Insufficient funds\")\n",
    "\n",
    "    def check_balance(self):\n",
    "        return self.balance\n",
    "\n",
    "    def print_account_details(self):\n",
    "        print(f\"Account Number: {self.account_number}\")\n",
    "        print(f\"Customer Name: {self.customer_name}\")\n",
    "        print(f\"Balance: {self.balance}\")\n",
    "        print(f\"Date of Opening: {self.date_of_opening}\")\n",
    "\n",
    "account = BankAccount(123456, \"Alice\", 1000, \"2022-01-01\")\n",
    "account.print_account_details()\n",
    "account.deposit(500)\n",
    "account.withdraw(200)\n",
    "print(f\"Current Balance: {account.check_balance()}\")\n"
   ]
  },
  {
   "cell_type": "code",
   "execution_count": 52,
   "id": "e9307908-53a4-484d-bde9-cf92fbbf9e04",
   "metadata": {},
   "outputs": [
    {
     "name": "stdout",
     "output_type": "stream",
     "text": [
      "Item ID: 1\n",
      "Item Name: Laptop\n",
      "Stock Count: 10\n",
      "Price: 1000\n",
      "Item ID: 1\n",
      "Item Name: Laptop\n",
      "Stock Count: 15\n",
      "Price: 950\n"
     ]
    }
   ],
   "source": [
    "#6. Write a Python class Inventory with attributes like item_id, item_name, stock_count, and price, and methods like add_item, update_item, and check_item_details.\n",
    "class Inventory:\n",
    "    def __init__(self, item_id, item_name, stock_count, price):\n",
    "        self.item_id = item_id\n",
    "        self.item_name = item_name\n",
    "        self.stock_count = stock_count\n",
    "        self.price = price\n",
    "\n",
    "    def add_item(self, count):\n",
    "        self.stock_count += count\n",
    "\n",
    "    def update_item(self, new_name=None, new_price=None):\n",
    "        if new_name:\n",
    "            self.item_name = new_name\n",
    "        if new_price:\n",
    "            self.price = new_price\n",
    "\n",
    "    def check_item_details(self):\n",
    "        print(f\"Item ID: {self.item_id}\")\n",
    "        print(f\"Item Name: {self.item_name}\")\n",
    "        print(f\"Stock Count: {self.stock_count}\")\n",
    "        print(f\"Price: {self.price}\")\n",
    "\n",
    "# Example usage\n",
    "item = Inventory(1, \"Laptop\", 10, 1000)\n",
    "item.check_item_details()\n",
    "item.add_item(5)\n",
    "item.update_item(new_price=950)\n",
    "item.check_item_details()\n"
   ]
  },
  {
   "cell_type": "code",
   "execution_count": null,
   "id": "59e6ba34-ba15-426c-8016-bcaaaa28b775",
   "metadata": {},
   "outputs": [],
   "source": []
  }
 ],
 "metadata": {
  "kernelspec": {
   "display_name": "Python 3 (ipykernel)",
   "language": "python",
   "name": "python3"
  },
  "language_info": {
   "codemirror_mode": {
    "name": "ipython",
    "version": 3
   },
   "file_extension": ".py",
   "mimetype": "text/x-python",
   "name": "python",
   "nbconvert_exporter": "python",
   "pygments_lexer": "ipython3",
   "version": "3.12.2"
  }
 },
 "nbformat": 4,
 "nbformat_minor": 5
}

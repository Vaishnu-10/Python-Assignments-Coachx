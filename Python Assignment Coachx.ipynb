{
 "cells": [
  {
   "cell_type": "code",
   "execution_count": 1,
   "id": "78b3ca4d-aed8-45a8-989a-a6dfc31a1c08",
   "metadata": {},
   "outputs": [
    {
     "name": "stdout",
     "output_type": "stream",
     "text": [
      "Palindrome\n"
     ]
    }
   ],
   "source": [
    "'''Assignment 1\n",
    "SET A\n",
    "Strings:\n",
    "\n",
    "Q1) Write a Python program to check whether the string is Symmetrical or Palindrome'''\n",
    "\n",
    "def is_symmetrical_or_palindrome(string):\n",
    "    if string==string[::-1]:\n",
    "        return \"Palindrome\"\n",
    "    mid=len(string)//2\n",
    "    if string[:mid]==string[mid:]:\n",
    "        return \"Symmetrical\"\n",
    "    return \"Neither\"\n",
    "string=\"abba\"\n",
    "result=is_symmetrical_or_palindrome(string)\n",
    "print(result)"
   ]
  },
  {
   "cell_type": "code",
   "execution_count": 5,
   "id": "54d581f8-58fd-4d8b-a318-1967497f007e",
   "metadata": {},
   "outputs": [
    {
     "name": "stdout",
     "output_type": "stream",
     "text": [
      "test a is this world Hello\n"
     ]
    }
   ],
   "source": [
    "def reverse_words_in_string(s):\n",
    "    words = s.split()\n",
    "    reversed_words = words[::-1] \n",
    "    reversed_string = ' '.join(reversed_words)  \n",
    "    return reversed_string\n",
    "\n",
    "input_string = \"Hello world this is a test\"\n",
    "result = reverse_words_in_string(input_string)\n",
    "print(result)\n"
   ]
  },
  {
   "cell_type": "code",
   "execution_count": 7,
   "id": "651ddeb7-98c0-4ddc-91f4-f66a83ccf388",
   "metadata": {},
   "outputs": [
    {
     "name": "stdout",
     "output_type": "stream",
     "text": [
      "Hell world\n"
     ]
    }
   ],
   "source": [
    "'''Q3) Write a Python program to remove the i’th character from the string in different ways'''\n",
    "def remove_ith_char_list(s, i):\n",
    "    s_list = list(s)\n",
    "    s_list.pop(i)\n",
    "    return ''.join(s_list)\n",
    "input_string = \"Hello world\"\n",
    "index = 4\n",
    "result = remove_ith_char_list(input_string, index)\n",
    "print(result)\n"
   ]
  },
  {
   "cell_type": "code",
   "execution_count": 8,
   "id": "c3a32647-4c7f-43d0-9d59-13d720a1aa44",
   "metadata": {},
   "outputs": [
    {
     "name": "stdout",
     "output_type": "stream",
     "text": [
      "The maximum of 10, 20, and 15 is 20\n"
     ]
    }
   ],
   "source": [
    "'''Functions:\n",
    "\n",
    "Q1) Write a Python function to find the Max of three numbers'''\n",
    "\n",
    "def max_of_three(a, b, c):\n",
    "    if a >= b and a >= c:\n",
    "        return a\n",
    "    elif b >= a and b >= c:\n",
    "        return b\n",
    "    else:\n",
    "        return c\n",
    "num1 = 10\n",
    "num2 = 20\n",
    "num3 = 15\n",
    "result = max_of_three(num1, num2, num3)\n",
    "print(f\"The maximum of {num1}, {num2}, and {num3} is {result}\")\n"
   ]
  },
  {
   "cell_type": "code",
   "execution_count": 9,
   "id": "def0847c-dead-453f-8715-e517241c10f8",
   "metadata": {},
   "outputs": [
    {
     "name": "stdout",
     "output_type": "stream",
     "text": [
      "The sum of the list [1, 2, 3, 4, 5] is 15\n"
     ]
    }
   ],
   "source": [
    "'''Q2) Write a Python function to Sum all the numbers in a list'''\n",
    "def sum_of_list(numbers):\n",
    "    total = 0\n",
    "    for number in numbers:\n",
    "        total += number\n",
    "    return total\n",
    "\n",
    "numbers = [1, 2, 3, 4, 5]\n",
    "result = sum_of_list(numbers)\n",
    "print(f\"The sum of the list {numbers} is {result}\")\n"
   ]
  },
  {
   "cell_type": "code",
   "execution_count": 10,
   "id": "a8441ecf-bd86-4c7e-975a-44d3b95c3fd6",
   "metadata": {},
   "outputs": [
    {
     "name": "stdout",
     "output_type": "stream",
     "text": [
      "The reverse of 'Hello world' is 'dlrow olleH'\n"
     ]
    }
   ],
   "source": [
    "'''Q3) Write a Python function to reverse the string'''\n",
    "def reverse_string(s):\n",
    "    return s[::-1]\n",
    "input_string = \"Hello world\"\n",
    "result = reverse_string(input_string)\n",
    "print(f\"The reverse of '{input_string}' is '{result}'\")\n"
   ]
  },
  {
   "cell_type": "code",
   "execution_count": 12,
   "id": "e755a834-6d6d-488d-916e-c00942e99991",
   "metadata": {},
   "outputs": [
    {
     "name": "stdout",
     "output_type": "stream",
     "text": [
      "['This', 'is', 'test', 'string']\n"
     ]
    }
   ],
   "source": [
    "'''SET B\n",
    "Strings:\n",
    "\n",
    "Q1) Write a Python program to print even-length words in a string'''\n",
    "\n",
    "def even_length_words(string):\n",
    "    words = string.split()\n",
    "    even_words = [word for word in words if len(word) % 2 == 0]\n",
    "    return even_words\n",
    "\n",
    "string = \"This is a test string yes\"\n",
    "result = even_length_words(string)\n",
    "print(result)\n"
   ]
  },
  {
   "cell_type": "code",
   "execution_count": 13,
   "id": "52798d55-e1b3-4006-b043-5ba0091738e8",
   "metadata": {},
   "outputs": [
    {
     "name": "stdout",
     "output_type": "stream",
     "text": [
      "True\n"
     ]
    }
   ],
   "source": [
    "'''Q2) Write a Python program to accept the strings which contains all vowels'''\n",
    "def contains_all_vowels(string):\n",
    "    vowels = set('aeiou')\n",
    "    return vowels.issubset(set(string.lower()))\n",
    "string = \"Education\"\n",
    "result = contains_all_vowels(string)\n",
    "print(result)\n"
   ]
  },
  {
   "cell_type": "code",
   "execution_count": 14,
   "id": "f2b1829a-c45c-47b9-93d1-349998a29fd5",
   "metadata": {},
   "outputs": [
    {
     "name": "stdout",
     "output_type": "stream",
     "text": [
      "2\n"
     ]
    }
   ],
   "source": [
    "'''Q3) Write a Python program to Count the number of matching characters in a pair of String'''\n",
    "def count_matching_characters(str1, str2):\n",
    "    matching_characters = set(str1) & set(str2)\n",
    "    return len(matching_characters)\n",
    "str1 = \"hello\"\n",
    "str2 = \"world\"\n",
    "result = count_matching_characters(str1, str2)\n",
    "print(result)\n"
   ]
  },
  {
   "cell_type": "code",
   "execution_count": 15,
   "id": "a1ef6939-1e35-4d92-a569-f6d16299fead",
   "metadata": {},
   "outputs": [
    {
     "name": "stdout",
     "output_type": "stream",
     "text": [
      "[1, 2, 3, 4, 5]\n"
     ]
    }
   ],
   "source": [
    "'''Functions:\n",
    "\n",
    "Q1) Write a Python function that takes a list and returns a new list with unique elements of the first list.'''\n",
    "def unique_elements(lst):\n",
    "    return list(set(lst))\n",
    "lst = [1, 2, 2, 3, 4, 4, 5]\n",
    "result = unique_elements(lst)\n",
    "print(result)\n",
    "\n"
   ]
  },
  {
   "cell_type": "code",
   "execution_count": 16,
   "id": "d1864ead-3afc-4147-a540-050fbe75acb9",
   "metadata": {},
   "outputs": [
    {
     "name": "stdout",
     "output_type": "stream",
     "text": [
      "True\n"
     ]
    }
   ],
   "source": [
    "'''Q2) Write a Python function that takes a number as a parameter and check the number is prime or not'''\n",
    "def is_prime(num):\n",
    "    if num <= 1:\n",
    "        return False\n",
    "    for i in range(2, int(num**0.5) + 1):\n",
    "        if num % i == 0:\n",
    "            return False\n",
    "    return True\n",
    "number = 7\n",
    "result = is_prime(number)\n",
    "print(result)\n"
   ]
  },
  {
   "cell_type": "code",
   "execution_count": 17,
   "id": "1bfc3775-a7ce-4bd2-ab58-fe9dfc6e5b68",
   "metadata": {},
   "outputs": [
    {
     "name": "stdout",
     "output_type": "stream",
     "text": [
      "True\n"
     ]
    }
   ],
   "source": [
    "'''Q3) Write a Python function to check whether a number is perfect or not.'''\n",
    "def is_perfect_number(num):\n",
    "    if num <= 0:\n",
    "        return False\n",
    "    divisors = [i for i in range(1, num) if num % i == 0]\n",
    "    return sum(divisors) == num\n",
    "\n",
    "number = 28\n",
    "result = is_perfect_number(number)\n",
    "print(result)\n"
   ]
  },
  {
   "cell_type": "code",
   "execution_count": 18,
   "id": "eb360e62-d9e2-4ff2-8d0e-4d5b71ed3140",
   "metadata": {},
   "outputs": [
    {
     "name": "stdout",
     "output_type": "stream",
     "text": [
      "25.0\n"
     ]
    }
   ],
   "source": [
    "'''Assignment 2\n",
    "SET A\n",
    "Python Program to Calculate the Area of a Triangle'''\n",
    "def triangle_area(base, height):\n",
    "    return 0.5 * base * height\n",
    "base = 10\n",
    "height = 5\n",
    "area = triangle_area(base, height)\n",
    "print(area)\n",
    "\n"
   ]
  },
  {
   "cell_type": "code",
   "execution_count": 19,
   "id": "7a0a4823-56e7-458a-8c00-f74a1f1fd2b9",
   "metadata": {},
   "outputs": [
    {
     "name": "stdout",
     "output_type": "stream",
     "text": [
      "10 5\n"
     ]
    }
   ],
   "source": [
    "'''Python Program to Swap Two Variables'''\n",
    "def swap_variables(a, b):\n",
    "    a, b = b, a\n",
    "    return a, b\n",
    "\n",
    "a = 5\n",
    "b = 10\n",
    "a, b = swap_variables(a, b)\n",
    "print(a, b)\n"
   ]
  },
  {
   "cell_type": "code",
   "execution_count": 21,
   "id": "847c5063-4eb7-4988-9ddb-dde6fce222d6",
   "metadata": {},
   "outputs": [
    {
     "name": "stdout",
     "output_type": "stream",
     "text": [
      "5\n"
     ]
    }
   ],
   "source": [
    "'''Python Program to Generate a Random Number'''\n",
    "import random\n",
    "\n",
    "def generate_random_number(start, end):\n",
    "    return random.randint(start, end)\n",
    "start = 1\n",
    "end = 100\n",
    "random_number = generate_random_number(start, end)\n",
    "print(random_number)\n"
   ]
  },
  {
   "cell_type": "code",
   "execution_count": 22,
   "id": "5e012c84-bea8-4e2b-8b39-5e0d4ce34fb7",
   "metadata": {},
   "outputs": [
    {
     "name": "stdout",
     "output_type": "stream",
     "text": [
      "Negative\n"
     ]
    }
   ],
   "source": [
    "'''SET B\n",
    "Write a Python Program to Check if a Number is Positive, Negative or Zero '''\n",
    "def check_number(num):\n",
    "    if num > 0:\n",
    "        return \"Positive\"\n",
    "    elif num < 0:\n",
    "        return \"Negative\"\n",
    "    else:\n",
    "        return \"Zero\"\n",
    "number = -10\n",
    "result = check_number(number)\n",
    "print(result)\n"
   ]
  },
  {
   "cell_type": "code",
   "execution_count": 23,
   "id": "c1c6934f-5ec6-4212-8d13-927e91b55eda",
   "metadata": {},
   "outputs": [
    {
     "name": "stdout",
     "output_type": "stream",
     "text": [
      "Odd\n"
     ]
    }
   ],
   "source": [
    "'''Write a Python Program to Check if a Number is Odd or Even'''\n",
    "def check_odd_even(num):\n",
    "    if num % 2 == 0:\n",
    "        return \"Even\"\n",
    "    else:\n",
    "        return \"Odd\"\n",
    "\n",
    "number = 5\n",
    "result = check_odd_even(number)\n",
    "print(result)\n"
   ]
  },
  {
   "cell_type": "code",
   "execution_count": 24,
   "id": "a822fd33-016b-42c4-9569-3cf1bde93a0e",
   "metadata": {},
   "outputs": [
    {
     "name": "stdout",
     "output_type": "stream",
     "text": [
      "True\n"
     ]
    }
   ],
   "source": [
    "'''Write a Python Program to Check Prime Number'''\n",
    "def is_prime(num):\n",
    "    if num <= 1:\n",
    "        return False\n",
    "    for i in range(2, int(num**0.5) + 1):\n",
    "        if num % i == 0:\n",
    "            return False\n",
    "    return True\n",
    "number = 11\n",
    "result = is_prime(number)\n",
    "print(result)\n"
   ]
  },
  {
   "cell_type": "code",
   "execution_count": 1,
   "id": "054e608b-aa16-4101-b90b-14351d91d8bc",
   "metadata": {},
   "outputs": [
    {
     "name": "stdout",
     "output_type": "stream",
     "text": [
      "True\n"
     ]
    }
   ],
   "source": [
    "'''Write a Python Program to Check Armstrong Number'''\n",
    "def is_armstrong(num):\n",
    "    num_str = str(num)\n",
    "    num_len = len(num_str)\n",
    "    return num == sum(int(digit) ** num_len for digit in num_str)\n",
    "number = 153\n",
    "result = is_armstrong(number)\n",
    "print(result)\n"
   ]
  },
  {
   "cell_type": "code",
   "execution_count": 2,
   "id": "a40ea792-ab70-4d09-9b70-733434175f3d",
   "metadata": {},
   "outputs": [
    {
     "name": "stdout",
     "output_type": "stream",
     "text": [
      "120\n"
     ]
    }
   ],
   "source": [
    "'''Write a Python Program to Find the Factorial of a Number'''\n",
    "def factorial(num):\n",
    "    if num == 0:\n",
    "        return 1\n",
    "    return num * factorial(num - 1)\n",
    "number = 5\n",
    "result = factorial(number)\n",
    "print(result)\n"
   ]
  },
  {
   "cell_type": "code",
   "execution_count": 3,
   "id": "41e547bc-6fb8-4df4-aa10-1cc37f672a7c",
   "metadata": {},
   "outputs": [
    {
     "name": "stdout",
     "output_type": "stream",
     "text": [
      "6.21371\n"
     ]
    }
   ],
   "source": [
    "'''PROGRAMS FOR PRACTICE:\n",
    "\n",
    "Python Program to Convert Kilometers to Miles'''\n",
    "def km_to_miles(km):\n",
    "    return km * 0.621371\n",
    "km = 10\n",
    "miles = km_to_miles(km)\n",
    "print(miles)\n"
   ]
  },
  {
   "cell_type": "code",
   "execution_count": 4,
   "id": "f21cd56e-db94-4771-82f1-c86b12ef5835",
   "metadata": {},
   "outputs": [
    {
     "name": "stdout",
     "output_type": "stream",
     "text": [
      "77.0\n"
     ]
    }
   ],
   "source": [
    "#Python Program to Convert Celsius To Fahrenheit\n",
    "def celsius_to_fahrenheit(celsius):\n",
    "    return (celsius * 9/5) + 32\n",
    "celsius = 25\n",
    "fahrenheit = celsius_to_fahrenheit(celsius)\n",
    "print(fahrenheit)\n"
   ]
  },
  {
   "cell_type": "code",
   "execution_count": 5,
   "id": "393e3ee1-fd20-4b90-b42e-2a0ba81ac92a",
   "metadata": {},
   "outputs": [
    {
     "name": "stdout",
     "output_type": "stream",
     "text": [
      "True\n"
     ]
    }
   ],
   "source": [
    "#Write a Python Program to Check Leap Year\n",
    "def is_leap_year(year):\n",
    "    if year % 4 == 0:\n",
    "        if year % 100 == 0:\n",
    "            if year % 400 == 0:\n",
    "                return True\n",
    "            else:\n",
    "                return False\n",
    "        else:\n",
    "            return True\n",
    "    else:\n",
    "        return False\n",
    "year = 2024\n",
    "result = is_leap_year(year)\n",
    "print(result)\n"
   ]
  },
  {
   "cell_type": "code",
   "execution_count": 7,
   "id": "76c22025-2b20-48be-973a-162e9b12e29a",
   "metadata": {},
   "outputs": [
    {
     "name": "stdout",
     "output_type": "stream",
     "text": [
      "[11, 13, 17, 19, 23, 29, 31, 37, 41, 43, 47]\n"
     ]
    }
   ],
   "source": [
    "#Write a Python Program to Print all Prime Numbers in an Interval\n",
    "def is_prime(num):\n",
    "  if num <= 1:\n",
    "    return False\n",
    "  for i in range(2, int(num**0.5) + 1):\n",
    "    if num % i == 0:\n",
    "      return False\n",
    "  return True\n",
    "def prime_numbers_in_interval(start, end):\n",
    "  primes = []\n",
    "  for num in range(start, end + 1):\n",
    "    if is_prime(num):\n",
    "      primes.append(num)\n",
    "  return primes\n",
    "\n",
    "start = 10\n",
    "end = 50\n",
    "primes = prime_numbers_in_interval(start, end)\n",
    "print(primes)"
   ]
  },
  {
   "cell_type": "code",
   "execution_count": 9,
   "id": "2f4b01d8-802c-4ee3-b344-d2d10ea242d7",
   "metadata": {},
   "outputs": [
    {
     "name": "stdout",
     "output_type": "stream",
     "text": [
      "0 1 1 2 3 5 8 13 21 34 "
     ]
    }
   ],
   "source": [
    "#Write a Python Program to Print the Fibonacci sequence\n",
    "def fibonacci_recursive(n):\n",
    "  if n <= 1:\n",
    "    return n\n",
    "  else:\n",
    "    return fibonacci_recursive(n-1) + fibonacci_recursive(n-2)\n",
    "number_of_terms = 10\n",
    "for i in range(number_of_terms):\n",
    "  print(fibonacci_recursive(i), end=\" \")"
   ]
  },
  {
   "cell_type": "code",
   "execution_count": 11,
   "id": "9800c038-05f6-4e97-9c79-5d773fee9047",
   "metadata": {},
   "outputs": [
    {
     "name": "stdout",
     "output_type": "stream",
     "text": [
      "[153, 370, 371, 407]\n"
     ]
    }
   ],
   "source": [
    "#Write a Python Program to Find the Armstrong Number in an Interval\n",
    "def is_armstrong(num):\n",
    "  original_num = num\n",
    "  number_of_digits = len(str(num))\n",
    "  sum_of_digits = 0\n",
    "  while num > 0:\n",
    "    digit = num % 10\n",
    "    sum_of_digits += digit ** number_of_digits\n",
    "    num //= 10\n",
    "  return sum_of_digits == original_num\n",
    "\n",
    "def armstrong_numbers_in_interval(start, end):\n",
    "  armstrong_numbers = []\n",
    "  for num in range(start, end + 1):\n",
    "    if is_armstrong(num):\n",
    "      armstrong_numbers.append(num)\n",
    "  return armstrong_numbers\n",
    "start = 100\n",
    "end = 1000\n",
    "armstrong_numbers = armstrong_numbers_in_interval(start, end)\n",
    "print(armstrong_numbers)"
   ]
  },
  {
   "cell_type": "code",
   "execution_count": 12,
   "id": "a6064128-1ebd-4af6-a5d9-5925a1e9858b",
   "metadata": {},
   "outputs": [
    {
     "name": "stdout",
     "output_type": "stream",
     "text": [
      "55\n"
     ]
    }
   ],
   "source": [
    "#Write a Python Program to Find the Sum of Natural Numbers\n",
    "def sum_of_natural_numbers(n):\n",
    "    return n * (1 + n) // 2\n",
    "n = 10\n",
    "sum_natural = sum_of_natural_numbers(n)\n",
    "print(sum_natural)\n"
   ]
  },
  {
   "cell_type": "code",
   "execution_count": 13,
   "id": "1abf1e8b-3ec8-461b-9c13-a0e6cb904876",
   "metadata": {},
   "outputs": [
    {
     "name": "stdout",
     "output_type": "stream",
     "text": [
      "[1, 2, 3, 4, 5]\n"
     ]
    }
   ],
   "source": [
    "'''Assignment 3\n",
    "Write a Python program to append items from a specified list.'''\n",
    "def append_items(original_list, items_to_append):\n",
    "    original_list.extend(items_to_append)\n",
    "    return original_list\n",
    "original_list = [1, 2, 3]\n",
    "items_to_append = [4, 5]\n",
    "result = append_items(original_list, items_to_append)\n",
    "print(result)\n"
   ]
  },
  {
   "cell_type": "code",
   "execution_count": 14,
   "id": "6c3814f7-2004-4423-b4e4-7e1190831a06",
   "metadata": {},
   "outputs": [
    {
     "name": "stdout",
     "output_type": "stream",
     "text": [
      "True\n"
     ]
    }
   ],
   "source": [
    "#Write a Python program to check if a substring is present in a given string.\n",
    "def is_substring_present(main_string, substring):\n",
    "    return substring in main_string\n",
    "main_string = \"Hello World\"\n",
    "substring = \"World\"\n",
    "result = is_substring_present(main_string, substring)\n",
    "print(result)\n"
   ]
  },
  {
   "cell_type": "code",
   "execution_count": 15,
   "id": "f612a654-04a7-492f-8198-59f5678718ff",
   "metadata": {},
   "outputs": [
    {
     "name": "stdout",
     "output_type": "stream",
     "text": [
      "{'apple': 3, 'banana': 2, 'orange': 2}\n"
     ]
    }
   ],
   "source": [
    "#Write a Python program to find word frequency in string shorthands.\n",
    "from collections import Counter\n",
    "\n",
    "def word_frequency(string):\n",
    "    words = string.split()\n",
    "    return dict(Counter(words))\n",
    "string = \"apple apple banana apple orange banana orange\"\n",
    "result = word_frequency(string)\n",
    "print(result)\n"
   ]
  },
  {
   "cell_type": "code",
   "execution_count": 16,
   "id": "b872dced-7b80-4de8-bad3-4361687d8f6a",
   "metadata": {},
   "outputs": [
    {
     "name": "stdout",
     "output_type": "stream",
     "text": [
      "ThisIsATest\n"
     ]
    }
   ],
   "source": [
    "#Write a Python program to convert snake case to Pascal case.\n",
    "def snake_to_pascal(snake_str):\n",
    "    components = snake_str.split('_')\n",
    "    return ''.join(x.title() for x in components)\n",
    "snake_str = \"this_is_a_test\"\n",
    "pascal_str = snake_to_pascal(snake_str)\n",
    "print(pascal_str)\n"
   ]
  },
  {
   "cell_type": "code",
   "execution_count": 17,
   "id": "ea10130b-e0c3-4e30-a754-5d8c298bba15",
   "metadata": {},
   "outputs": [
    {
     "name": "stdout",
     "output_type": "stream",
     "text": [
      "120\n"
     ]
    }
   ],
   "source": [
    "#Write a Python function to calculate the factorial of a number (a non-negative integer). The function accepts the number as an argument.\n",
    "def factorial(n):\n",
    "    if n == 0:\n",
    "        return 1\n",
    "    return n * factorial(n - 1)\n",
    "number = 5\n",
    "result = factorial(number)\n",
    "print(result)\n"
   ]
  },
  {
   "cell_type": "code",
   "execution_count": 18,
   "id": "b141dfcd-4494-440a-896f-15f7e00ffb69",
   "metadata": {},
   "outputs": [
    {
     "name": "stdout",
     "output_type": "stream",
     "text": [
      "True\n"
     ]
    }
   ],
   "source": [
    "#Write a Python function to check whether a number is in a given range.\n",
    "def is_in_range(num, start, end):\n",
    "    return start <= num <= end\n",
    "\n",
    "num = 5\n",
    "start = 1\n",
    "end = 10\n",
    "result = is_in_range(num, start, end)\n",
    "print(result)\n"
   ]
  },
  {
   "cell_type": "code",
   "execution_count": 19,
   "id": "d6d89817-15ca-4355-b0a2-461a49f72f87",
   "metadata": {},
   "outputs": [
    {
     "name": "stdout",
     "output_type": "stream",
     "text": [
      "{'uppercase': 6, 'lowercase': 30}\n"
     ]
    }
   ],
   "source": [
    "#Write a Python function that accepts a string and calculates the number of uppercase letters and lowercase letters.\n",
    "def count_uppercase_lowercase(text):\n",
    "  uppercase_count = 0\n",
    "  lowercase_count = 0\n",
    "  for char in text:\n",
    "    if char.isupper():\n",
    "      uppercase_count += 1\n",
    "    elif char.islower():\n",
    "      lowercase_count += 1\n",
    "  return {\"uppercase\": uppercase_count, \"lowercase\": lowercase_count}\n",
    "text = \"Hello, World! This is a String with Mixed Case.\"\n",
    "letter_counts = count_uppercase_lowercase(text)\n",
    "print(letter_counts)\n"
   ]
  },
  {
   "cell_type": "code",
   "execution_count": 22,
   "id": "b0b76b98-58b0-4529-a3ab-ec8882eae747",
   "metadata": {},
   "outputs": [
    {
     "name": "stdout",
     "output_type": "stream",
     "text": [
      "3\n",
      "The function takes 2 arguments.\n"
     ]
    }
   ],
   "source": [
    "#Write a Python program to detect the number of local variables declared in a function.\n",
    "def sample_function():\n",
    "    a = 1\n",
    "    b = 2\n",
    "    c = 3\n",
    "    return a + b + c\n",
    "\n",
    "num_locals = sample_function.__code__.co_nlocals\n",
    "print(num_locals)\n",
    "\n",
    "####################\n",
    "import inspect\n",
    "\n",
    "def some_function(arg1, arg2):\n",
    "  local_var1 = \"This is a local variable\"\n",
    "  pass\n",
    "\n",
    "num_args = len(inspect.signature(some_function).parameters)\n",
    "print(f\"The function takes {num_args} arguments.\")\n"
   ]
  },
  {
   "cell_type": "code",
   "execution_count": 23,
   "id": "1aa7d77c-54fd-477a-8d55-703940595023",
   "metadata": {},
   "outputs": [
    {
     "name": "stdout",
     "output_type": "stream",
     "text": [
      "progamin\n"
     ]
    }
   ],
   "source": [
    "#Write a Python program to remove all duplicates from a given string in Python.\n",
    "def remove_duplicates(string):\n",
    "    return ''.join(sorted(set(string), key=string.index))\n",
    "string = \"programming\"\n",
    "result = remove_duplicates(string)\n",
    "print(result)\n"
   ]
  },
  {
   "cell_type": "code",
   "execution_count": 24,
   "id": "71c900ec-47b8-48e4-ac9a-1a2d1f83db29",
   "metadata": {},
   "outputs": [
    {
     "name": "stdout",
     "output_type": "stream",
     "text": [
      "True\n"
     ]
    }
   ],
   "source": [
    "#Write a Python function that checks whether a passed string is a palindrome or not.\n",
    "def is_palindrome(string):\n",
    "    return string == string[::-1]\n",
    "string = \"radar\"\n",
    "result = is_palindrome(string)\n",
    "print(result)\n",
    "\n"
   ]
  },
  {
   "cell_type": "code",
   "execution_count": 25,
   "id": "5c94632e-536d-4fa7-a44b-6122837d4091",
   "metadata": {},
   "outputs": [
    {
     "name": "stdout",
     "output_type": "stream",
     "text": [
      "apple-banana-orange\n"
     ]
    }
   ],
   "source": [
    "#Write a Python program that accepts a hyphen-separated sequence of words as input and prints the words in a hyphen-separated sequence after sorting them alphabetically.\n",
    "def sort_hyphenated_sequence(sequence):\n",
    "    words = sequence.split('-')\n",
    "    words.sort()\n",
    "    return '-'.join(words)\n",
    "sequence = \"banana-apple-orange\"\n",
    "result = sort_hyphenated_sequence(sequence)\n",
    "print(result)\n"
   ]
  },
  {
   "cell_type": "code",
   "execution_count": 26,
   "id": "6417964e-dd75-4437-921a-3c4ed2390c29",
   "metadata": {},
   "outputs": [
    {
     "name": "stdout",
     "output_type": "stream",
     "text": [
      "15\n"
     ]
    }
   ],
   "source": [
    "'''Assignment 4\n",
    "SET A\n",
    "Lists:\n",
    "\n",
    "Write a Python program to sum all the items in a list.'''\n",
    "\n",
    "def sum_of_list(lst):\n",
    "    return sum(lst)\n",
    "\n",
    "lst = [1, 2, 3, 4, 5]\n",
    "result = sum_of_list(lst)\n",
    "print(result)\n"
   ]
  },
  {
   "cell_type": "code",
   "execution_count": 27,
   "id": "07e0e043-5f2e-4c7d-9191-f944536ded06",
   "metadata": {},
   "outputs": [
    {
     "name": "stdout",
     "output_type": "stream",
     "text": [
      "24\n"
     ]
    }
   ],
   "source": [
    "#Write a Python program to multiply all the items in a list.\n",
    "def multiply_list(lst):\n",
    "    result = 1\n",
    "    for item in lst:\n",
    "        result *= item\n",
    "    return result\n",
    "\n",
    "lst = [1, 2, 3, 4]\n",
    "result = multiply_list(lst)\n",
    "print(result)\n"
   ]
  },
  {
   "cell_type": "code",
   "execution_count": 31,
   "id": "a0f9f1bf-5bb9-4e14-ae5e-52cf150af050",
   "metadata": {},
   "outputs": [
    {
     "name": "stdout",
     "output_type": "stream",
     "text": [
      "(1, 2, 3, 4, 5)\n",
      "<class 'tuple'>\n"
     ]
    }
   ],
   "source": [
    "'''Tuples:\n",
    "\n",
    "Write a Python program to create a tuple.'''\n",
    "def create_tuple(*args):\n",
    "    return tuple(args)\n",
    "\n",
    "result = create_tuple(1, 2, 3, 4, 5)\n",
    "print(result)\n",
    "print(type(result))"
   ]
  },
  {
   "cell_type": "code",
   "execution_count": 28,
   "id": "24e07963-e763-4cbe-8c83-b37f4b16fc23",
   "metadata": {},
   "outputs": [
    {
     "name": "stdout",
     "output_type": "stream",
     "text": [
      "[(1, 2), (2, 3), (4, 4), (2, 5)]\n"
     ]
    }
   ],
   "source": [
    "#Write a Python program to get a list, sorted in increasing order by the last element in each tuple from a given list of non-empty tuples.\n",
    "def sort_by_last_element(tuples_list):\n",
    "    return sorted(tuples_list, key=lambda x: x[-1])\n",
    "\n",
    "tuples_list = [(2, 5), (1, 2), (4, 4), (2, 3)]\n",
    "result = sort_by_last_element(tuples_list)\n",
    "print(result)\n"
   ]
  },
  {
   "cell_type": "code",
   "execution_count": 32,
   "id": "3884e4a7-3734-46d2-9a97-23de3432334c",
   "metadata": {},
   "outputs": [
    {
     "name": "stdout",
     "output_type": "stream",
     "text": [
      "(1, 'Hello', 3.14, True)\n"
     ]
    }
   ],
   "source": [
    "#Write a Python program to create a tuple with different data types.\n",
    "def create_mixed_tuple():\n",
    "    return (1, \"Hello\", 3.14, True)\n",
    "result = create_mixed_tuple()\n",
    "print(result)\n"
   ]
  },
  {
   "cell_type": "code",
   "execution_count": 33,
   "id": "d0937f61-61ef-434c-bf74-d1caf62510e2",
   "metadata": {},
   "outputs": [
    {
     "name": "stdout",
     "output_type": "stream",
     "text": [
      "True\n"
     ]
    }
   ],
   "source": [
    "#Write a Python program to check whether an element exists within a tuple.\n",
    "def check_element_in_tuple(tpl, element):\n",
    "    return element in tpl\n",
    "tpl = (1, 2, 3, 4)\n",
    "element = 3\n",
    "result = check_element_in_tuple(tpl, element)\n",
    "print(result)\n"
   ]
  },
  {
   "cell_type": "code",
   "execution_count": 34,
   "id": "5e0649b5-36c9-4b86-9a0f-9b20883d0208",
   "metadata": {},
   "outputs": [
    {
     "name": "stdout",
     "output_type": "stream",
     "text": [
      "{1, 2, 3, 4, 5}\n"
     ]
    }
   ],
   "source": [
    "'''Sets:\n",
    "\n",
    "Write a Python program to create a set.'''\n",
    "def create_set(*args):\n",
    "    return set(args)\n",
    "result = create_set(1, 2, 3, 4, 5)\n",
    "print(result)\n"
   ]
  },
  {
   "cell_type": "code",
   "execution_count": 35,
   "id": "47533407-baa2-4eea-9101-a029d3efae04",
   "metadata": {},
   "outputs": [
    {
     "name": "stdout",
     "output_type": "stream",
     "text": [
      "1\n",
      "2\n",
      "3\n",
      "4\n",
      "5\n"
     ]
    }
   ],
   "source": [
    "#Write a Python program to iterate over sets.\n",
    "def iterate_set(s):\n",
    "    for element in s:\n",
    "        print(element)\n",
    "\n",
    "s = {1, 2, 3, 4, 5}\n",
    "iterate_set(s)\n"
   ]
  },
  {
   "cell_type": "code",
   "execution_count": 36,
   "id": "ad44c987-8764-46c5-a4bb-acc29eab3342",
   "metadata": {},
   "outputs": [
    {
     "name": "stdout",
     "output_type": "stream",
     "text": [
      "{1, 2}\n"
     ]
    }
   ],
   "source": [
    "#Write a Python program to create a set difference.\n",
    "def set_difference(set1, set2):\n",
    "    return set1 - set2\n",
    "set1 = {1, 2, 3, 4}\n",
    "set2 = {3, 4, 5, 6}\n",
    "result = set_difference(set1, set2)\n",
    "print(result)\n"
   ]
  },
  {
   "cell_type": "code",
   "execution_count": 39,
   "id": "c7165f5a-db31-4ccc-b5fa-b29634b488d6",
   "metadata": {},
   "outputs": [
    {
     "name": "stdout",
     "output_type": "stream",
     "text": [
      "Ascending: {'banana': 5, 'apple': 10, 'orange': 15}\n",
      "Descending: {'orange': 15, 'apple': 10, 'banana': 5}\n"
     ]
    }
   ],
   "source": [
    "'''Dictionaries:\n",
    "\n",
    "Write a Python script to sort (ascending and descending) a dictionary by value.'''\n",
    "def sort_dict_by_value(d):\n",
    "    ascending = dict(sorted(d.items(), key=lambda item: item[1]))\n",
    "    descending = dict(sorted(d.items(), key=lambda item: item[1], reverse=True))\n",
    "    return ascending, descending\n",
    "\n",
    "d = {'apple': 10, 'banana': 5, 'orange': 15}\n",
    "ascending, descending = sort_dict_by_value(d)\n",
    "print(\"Ascending:\", ascending)\n",
    "print(\"Descending:\", descending)\n",
    "\n"
   ]
  },
  {
   "cell_type": "code",
   "execution_count": 41,
   "id": "935cdf2e-2090-4ff1-b351-82c17ab3e542",
   "metadata": {},
   "outputs": [
    {
     "name": "stdout",
     "output_type": "stream",
     "text": [
      "{'apple': 10, 'banana': 5, 'orange': 15}\n"
     ]
    }
   ],
   "source": [
    "#Write a Python script to add a key to a dictionary.\n",
    "def add_key_to_dict(d, key, value):\n",
    "    d[key] = value\n",
    "    return d\n",
    "d = {'apple': 10, 'banana': 5}\n",
    "key = 'orange'\n",
    "value = 15\n",
    "result = add_key_to_dict(d, key, value)\n",
    "print(result)\n"
   ]
  },
  {
   "cell_type": "code",
   "execution_count": 42,
   "id": "2beeb8d5-c300-4e42-8c01-efbbd2261c18",
   "metadata": {},
   "outputs": [
    {
     "name": "stdout",
     "output_type": "stream",
     "text": [
      "Key: apple, Value: 10\n",
      "Key: banana, Value: 5\n",
      "Key: orange, Value: 15\n"
     ]
    }
   ],
   "source": [
    "#Write a Python program to iterate over dictionaries using for loops.\n",
    "def iterate_dict(d):\n",
    "    for key, value in d.items():\n",
    "        print(f\"Key: {key}, Value: {value}\")\n",
    "d = {'apple': 10, 'banana': 5, 'orange': 15}\n",
    "iterate_dict(d)\n"
   ]
  },
  {
   "cell_type": "code",
   "execution_count": 43,
   "id": "4ef0063c-f397-4422-b91d-783ffaa5e9d4",
   "metadata": {},
   "outputs": [
    {
     "name": "stdout",
     "output_type": "stream",
     "text": [
      "[1, 2, 3, 4, 5]\n"
     ]
    }
   ],
   "source": [
    "'''SET B\n",
    "Lists:\n",
    "\n",
    "Write a Python program to remove duplicates from a list.'''\n",
    "\n",
    "def remove_duplicates(lst):\n",
    "    return list(set(lst))\n",
    "lst = [1, 2, 2, 3, 4, 4, 5]\n",
    "result = remove_duplicates(lst)\n",
    "print(result)\n"
   ]
  },
  {
   "cell_type": "code",
   "execution_count": 44,
   "id": "af74aa1d-a48e-41a9-bf2c-f8e3f180eea5",
   "metadata": {},
   "outputs": [
    {
     "name": "stdout",
     "output_type": "stream",
     "text": [
      "True\n"
     ]
    }
   ],
   "source": [
    "#Write a Python program to check if a list is empty or not.\n",
    "def is_list_empty(lst):\n",
    "    return len(lst) == 0\n",
    "lst = []\n",
    "result = is_list_empty(lst)\n",
    "print(result)\n"
   ]
  },
  {
   "cell_type": "code",
   "execution_count": 45,
   "id": "c2166152-fa2a-4dc6-9b85-bbe5e48a8b81",
   "metadata": {},
   "outputs": [
    {
     "name": "stdout",
     "output_type": "stream",
     "text": [
      "(1, 2, 3, 4)\n"
     ]
    }
   ],
   "source": [
    "'''Tuples:\n",
    "\n",
    "Write a Python program to convert a list to a tuple.'''\n",
    "\n",
    "def list_to_tuple(lst):\n",
    "    return tuple(lst)\n",
    "lst = [1, 2, 3, 4]\n",
    "result = list_to_tuple(lst)\n",
    "print(result)"
   ]
  },
  {
   "cell_type": "code",
   "execution_count": 48,
   "id": "080b8ff2-83aa-4999-8dab-fbb4fb5a9ba8",
   "metadata": {},
   "outputs": [
    {
     "name": "stdout",
     "output_type": "stream",
     "text": [
      "(1, 2, 3, 4, 5)\n",
      "(1, 2, 4, 5)\n"
     ]
    }
   ],
   "source": [
    "#Write a Python program to remove an item from a tuple.\n",
    "original_tuple = (1, 2, 3, 4, 5)\n",
    "item_to_remove = 3\n",
    "new_list = list(original_tuple)\n",
    "new_list.remove(item_to_remove)\n",
    "new_tuple = tuple(new_list)\n",
    "print(original_tuple) \n",
    "print(new_tuple)   "
   ]
  },
  {
   "cell_type": "code",
   "execution_count": 49,
   "id": "8ac09921-1768-4212-981f-5731ef05b01a",
   "metadata": {},
   "outputs": [
    {
     "name": "stdout",
     "output_type": "stream",
     "text": [
      "(2, 3, 4)\n"
     ]
    }
   ],
   "source": [
    "#Write a Python program to slice a tuple.\n",
    "def slice_tuple(tpl, start, end):\n",
    "    return tpl[start:end]\n",
    "tpl = (1, 2, 3, 4, 5)\n",
    "result = slice_tuple(tpl, 1, 4)\n",
    "print(result)\n"
   ]
  },
  {
   "cell_type": "code",
   "execution_count": 50,
   "id": "a1053183-64ba-451e-9a62-d062a5f61860",
   "metadata": {},
   "outputs": [
    {
     "name": "stdout",
     "output_type": "stream",
     "text": [
      "5\n"
     ]
    }
   ],
   "source": [
    "#Write a Python program to find the length of a tuple.\n",
    "def tuple_length(tpl):\n",
    "    return len(tpl)\n",
    "tpl = (1, 2, 3, 4, 5)\n",
    "result = tuple_length(tpl)\n",
    "print(result)\n"
   ]
  },
  {
   "cell_type": "code",
   "execution_count": 51,
   "id": "0e22f372-f78f-4790-ab84-035086b8eac7",
   "metadata": {},
   "outputs": [
    {
     "name": "stdout",
     "output_type": "stream",
     "text": [
      "True\n"
     ]
    }
   ],
   "source": [
    "'''Sets:\n",
    "\n",
    "Write a Python program to check if a set is a subset of another set.'''\n",
    "\n",
    "def is_subset(set1, set2):\n",
    "    return set1.issubset(set2)\n",
    "\n",
    "set1 = {1, 2}\n",
    "set2 = {1, 2, 3, 4}\n",
    "result = is_subset(set1, set2)\n",
    "print(result)\n"
   ]
  },
  {
   "cell_type": "code",
   "execution_count": 52,
   "id": "1cbef051-27d0-4094-8f23-8082ea2db77e",
   "metadata": {},
   "outputs": [
    {
     "name": "stdout",
     "output_type": "stream",
     "text": [
      "Max: 5, Min: 1\n"
     ]
    }
   ],
   "source": [
    "#Write a Python program to find the maximum and minimum value in a set\n",
    "def max_min_set(s):\n",
    "    return max(s), min(s)\n",
    "s = {1, 2, 3, 4, 5}\n",
    "max_val, min_val = max_min_set(s)\n",
    "print(f\"Max: {max_val}, Min: {min_val}\")\n"
   ]
  },
  {
   "cell_type": "code",
   "execution_count": 53,
   "id": "630bd93c-1085-4eff-9f48-dfa63f1fb50c",
   "metadata": {},
   "outputs": [
    {
     "name": "stdout",
     "output_type": "stream",
     "text": [
      "5\n"
     ]
    }
   ],
   "source": [
    "#Write a Python program to find the length of a set.\n",
    "def set_length(s):\n",
    "    return len(s)\n",
    "s = {1, 2, 3, 4, 5}\n",
    "result = set_length(s)\n",
    "print(result)\n"
   ]
  },
  {
   "cell_type": "code",
   "execution_count": 54,
   "id": "0ecfff85-d4ba-4db0-9302-8fbaa95f1246",
   "metadata": {},
   "outputs": [
    {
     "name": "stdout",
     "output_type": "stream",
     "text": [
      "{1: 1, 2: 4, 3: 9, 4: 16, 5: 25}\n"
     ]
    }
   ],
   "source": [
    "'''Dictionaries:\n",
    "\n",
    "Write a Python script to generate and print a dictionary that contains a number (between 1 and n) in the form (x, x*x).'''\n",
    "\n",
    "def generate_dict(n):\n",
    "    return {x: x * x for x in range(1, n + 1)}\n",
    "n = 5\n",
    "result = generate_dict(n)\n",
    "print(result)\n"
   ]
  },
  {
   "cell_type": "code",
   "execution_count": 55,
   "id": "8e47f85d-6b55-4598-84e0-f05b08f2b3e6",
   "metadata": {},
   "outputs": [
    {
     "name": "stdout",
     "output_type": "stream",
     "text": [
      "{'a': 1, 'b': 2, 'c': 3, 'd': 4}\n"
     ]
    }
   ],
   "source": [
    "#Write a Python script to merge two Python dictionaries.\n",
    "def merge_dicts(dict1, dict2):\n",
    "    result = dict1.copy()\n",
    "    result.update(dict2)\n",
    "    return result\n",
    "dict1 = {'a': 1, 'b': 2}\n",
    "dict2 = {'c': 3, 'd': 4}\n",
    "result = merge_dicts(dict1, dict2)\n",
    "print(result)\n"
   ]
  },
  {
   "cell_type": "code",
   "execution_count": 56,
   "id": "2b71db7d-9de6-49a7-ab6a-49d2240bcb87",
   "metadata": {},
   "outputs": [
    {
     "name": "stdout",
     "output_type": "stream",
     "text": [
      "{'a': 1, 'b': 2, 'c': 3}\n"
     ]
    }
   ],
   "source": [
    "#Write a Python program to get a dictionary from an object's fields.\n",
    "class Example:\n",
    "    def __init__(self):\n",
    "        self.a = 1\n",
    "        self.b = 2\n",
    "        self.c = 3\n",
    "\n",
    "def get_dict_from_object(obj):\n",
    "    return obj.__dict__\n",
    "\n",
    "example = Example()\n",
    "result = get_dict_from_object(example)\n",
    "print(result)\n"
   ]
  },
  {
   "cell_type": "code",
   "execution_count": 57,
   "id": "7f10960b-52e7-438d-bdf8-860442822b34",
   "metadata": {},
   "outputs": [
    {
     "name": "stdout",
     "output_type": "stream",
     "text": [
      "5\n"
     ]
    }
   ],
   "source": [
    "'''Programs for Practice\n",
    "Write a Python program to get the largest number from a list.'''\n",
    "\n",
    "def largest_number(lst):\n",
    "    return max(lst)\n",
    "\n",
    "lst = [1, 2, 3, 4, 5]\n",
    "result = largest_number(lst)\n",
    "print(result)\n"
   ]
  },
  {
   "cell_type": "code",
   "execution_count": 58,
   "id": "7dfa4c27-2283-441e-8fda-e1d64aaa305c",
   "metadata": {},
   "outputs": [
    {
     "name": "stdout",
     "output_type": "stream",
     "text": [
      "1\n"
     ]
    }
   ],
   "source": [
    "#Write a Python program to get the smallest number from a list.\n",
    "def smallest_number(lst):\n",
    "    return min(lst)\n",
    "lst = [1, 2, 3, 4, 5]\n",
    "result = smallest_number(lst)\n",
    "print(result)\n"
   ]
  },
  {
   "cell_type": "code",
   "execution_count": 59,
   "id": "c16a36c3-0ae9-4995-bdab-831f6d49bd00",
   "metadata": {},
   "outputs": [
    {
     "name": "stdout",
     "output_type": "stream",
     "text": [
      "3\n"
     ]
    }
   ],
   "source": [
    "#Write a Python program to count the number of strings where the string length is 2 or more and the first and last character are the same from a given list of strings.\n",
    "def count_special_strings(lst):\n",
    "    return sum(1 for s in lst if len(s) >= 2 and s[0] == s[-1])\n",
    "\n",
    "lst = [\"abc\", \"xyx\", \"aba\", \"1221\", \"b\"]\n",
    "result = count_special_strings(lst)\n",
    "print(result)\n"
   ]
  },
  {
   "cell_type": "code",
   "execution_count": 60,
   "id": "572e167e-9b0e-4809-8283-885d63810843",
   "metadata": {},
   "outputs": [
    {
     "name": "stdout",
     "output_type": "stream",
     "text": [
      "(1, 2, 3, 4)\n"
     ]
    }
   ],
   "source": [
    "#Write a Python program to add an item in a tuple.\n",
    "def add_item_to_tuple(tpl, item):\n",
    "    return tpl + (item,)\n",
    "tpl = (1, 2, 3)\n",
    "item = 4\n",
    "result = add_item_to_tuple(tpl, item)\n",
    "print(result)\n"
   ]
  },
  {
   "cell_type": "code",
   "execution_count": 62,
   "id": "e83f26a3-bde8-4f83-9190-8a47938a029a",
   "metadata": {},
   "outputs": [
    {
     "name": "stdout",
     "output_type": "stream",
     "text": [
      "1234\n",
      "<class 'str'>\n"
     ]
    }
   ],
   "source": [
    "#Write a Python program to convert a tuple to a string\n",
    "def tuple_to_string(tpl):\n",
    "    return ''.join(map(str, tpl))\n",
    "tpl = (1, 2, 3, 4)\n",
    "result = tuple_to_string(tpl)\n",
    "print(result)\n",
    "print(type(result))\n"
   ]
  },
  {
   "cell_type": "code",
   "execution_count": 64,
   "id": "78082973-3338-48e7-b7b2-a71f97a33ccd",
   "metadata": {},
   "outputs": [
    {
     "name": "stdout",
     "output_type": "stream",
     "text": [
      "(1, 2, 3, 4)\n"
     ]
    }
   ],
   "source": [
    "#Write a Python program to create the clone of a tuple.\n",
    "def clone_tuple(tpl):\n",
    "    return tpl[:]\n",
    "\n",
    "tpl = (1, 2, 3, 4)\n",
    "result = clone_tuple(tpl)\n",
    "print(result)\n"
   ]
  },
  {
   "cell_type": "code",
   "execution_count": 65,
   "id": "390093b8-7b93-4ad1-a144-b9894393e4c8",
   "metadata": {},
   "outputs": [
    {
     "name": "stdout",
     "output_type": "stream",
     "text": [
      "1 2 3\n"
     ]
    }
   ],
   "source": [
    "#Write a Python program to unpack a tuple in several variables.\n",
    "def unpack_tuple(tpl):\n",
    "    a, b, c = tpl\n",
    "    return a, b, c\n",
    "\n",
    "tpl = (1, 2, 3)\n",
    "a, b, c = unpack_tuple(tpl)\n",
    "print(a, b, c)\n"
   ]
  },
  {
   "cell_type": "code",
   "execution_count": 66,
   "id": "62cdd69f-8bb9-4afc-b6d5-2f0b7c70e51a",
   "metadata": {},
   "outputs": [
    {
     "name": "stdout",
     "output_type": "stream",
     "text": [
      "{1, 2, 3, 4, 5}\n"
     ]
    }
   ],
   "source": [
    "#Write a Python program to add member(s) in a set.\n",
    "def add_members_to_set(s, *members):\n",
    "    s.update(members)\n",
    "    return s\n",
    "s = {1, 2, 3}\n",
    "result = add_members_to_set(s, 4, 5)\n",
    "print(result)\n"
   ]
  },
  {
   "cell_type": "code",
   "execution_count": 67,
   "id": "85accdb7-9f13-4b33-8d8a-8fc767954a8d",
   "metadata": {},
   "outputs": [
    {
     "name": "stdout",
     "output_type": "stream",
     "text": [
      "{1, 4}\n"
     ]
    }
   ],
   "source": [
    "#Write a Python program to remove item(s) from a set.\n",
    "def remove_items_from_set(s, *items):\n",
    "    s.difference_update(items)\n",
    "    return s\n",
    "s = {1, 2, 3, 4}\n",
    "result = remove_items_from_set(s, 2, 3)\n",
    "print(result)\n"
   ]
  },
  {
   "cell_type": "code",
   "execution_count": 68,
   "id": "cba2320e-3863-4bed-8d59-048b6408c5c0",
   "metadata": {},
   "outputs": [
    {
     "name": "stdout",
     "output_type": "stream",
     "text": [
      "{2, 3}\n"
     ]
    }
   ],
   "source": [
    "#Write a Python program to create an intersection of sets.\n",
    "def intersection_of_sets(set1, set2):\n",
    "    return set1.intersection(set2)\n",
    "set1 = {1, 2, 3}\n",
    "set2 = {2, 3, 4}\n",
    "result = intersection_of_sets(set1, set2)\n",
    "print(result)\n"
   ]
  },
  {
   "cell_type": "code",
   "execution_count": 69,
   "id": "d8c0b671-4379-4785-b269-c22b7918c5a0",
   "metadata": {},
   "outputs": [
    {
     "name": "stdout",
     "output_type": "stream",
     "text": [
      "{1, 2, 3, 4, 5}\n"
     ]
    }
   ],
   "source": [
    "#Write a Python program to create a union of sets.\n",
    "def union_of_sets(set1, set2):\n",
    "    return set1.union(set2)\n",
    "set1 = {1, 2, 3}\n",
    "set2 = {3, 4, 5}\n",
    "result = union_of_sets(set1, set2)\n",
    "print(result)\n"
   ]
  },
  {
   "cell_type": "code",
   "execution_count": 70,
   "id": "ffc90094-f415-4995-9229-c66930dd8555",
   "metadata": {},
   "outputs": [
    {
     "name": "stdout",
     "output_type": "stream",
     "text": [
      "{'a': 1, 'b': 2, 'c': 3, 'd': 4}\n"
     ]
    }
   ],
   "source": [
    "#Write a Python script to concatenate the following dictionaries to create a new one.\n",
    "def concatenate_dicts(*dicts):\n",
    "    result = {}\n",
    "    for d in dicts:\n",
    "        result.update(d)\n",
    "    return result\n",
    "\n",
    "dict1 = {'a': 1, 'b': 2}\n",
    "dict2 = {'c': 3, 'd': 4}\n",
    "result = concatenate_dicts(dict1, dict2)\n",
    "print(result)\n"
   ]
  },
  {
   "cell_type": "code",
   "execution_count": 71,
   "id": "a0b79b21-e3d4-45d5-bb59-aef562c3374b",
   "metadata": {},
   "outputs": [
    {
     "name": "stdout",
     "output_type": "stream",
     "text": [
      "{'a': 1, 'b': 2, 'c': 3}\n"
     ]
    }
   ],
   "source": [
    "#Write a Python program to map two lists into a dictionary.\n",
    "def map_lists_to_dict(keys, values):\n",
    "    return dict(zip(keys, values))\n",
    "keys = ['a', 'b', 'c']\n",
    "values = [1, 2, 3]\n",
    "result = map_lists_to_dict(keys, values)\n",
    "print(result)\n"
   ]
  },
  {
   "cell_type": "code",
   "execution_count": 72,
   "id": "afd07d52-53c4-4895-897b-75f27b71f17d",
   "metadata": {},
   "outputs": [
    {
     "name": "stdout",
     "output_type": "stream",
     "text": [
      "{'a': 1, 'b': 2, 'c': 3}\n"
     ]
    }
   ],
   "source": [
    "#Write a Python program to sort a dictionary by key.\n",
    "def sort_dict_by_key(d):\n",
    "    return dict(sorted(d.items()))\n",
    "\n",
    "d = {'b': 2, 'a': 1, 'c': 3}\n",
    "result = sort_dict_by_key(d)\n",
    "print(result)\n"
   ]
  },
  {
   "cell_type": "code",
   "execution_count": 73,
   "id": "948135cb-f787-4ed1-833f-19e76fbbbad5",
   "metadata": {},
   "outputs": [
    {
     "name": "stdout",
     "output_type": "stream",
     "text": [
      "Max: 15, Min: 5\n"
     ]
    }
   ],
   "source": [
    "#Write a Python program to get the maximum and minimum value in a dictionary.\n",
    "def max_min_dict(d):\n",
    "    max_val = max(d.values())\n",
    "    min_val = min(d.values())\n",
    "    return max_val, min_val\n",
    "\n",
    "d = {'a': 10, 'b': 5, 'c': 15}\n",
    "max_val, min_val = max_min_dict(d)\n",
    "print(f\"Max: {max_val}, Min: {min_val}\")\n"
   ]
  },
  {
   "cell_type": "code",
   "execution_count": 74,
   "id": "f2069af8-284d-4adb-858f-490e20277e2d",
   "metadata": {},
   "outputs": [
    {
     "name": "stdout",
     "output_type": "stream",
     "text": [
      "[1, 2, 3, 4, 5]\n"
     ]
    }
   ],
   "source": [
    "#Write a Python program to clone or copy a list.\n",
    "def clone_list(lst):\n",
    "    return lst[:]\n",
    "\n",
    "lst = [1, 2, 3, 4, 5]\n",
    "result = clone_list(lst)\n",
    "print(result)\n"
   ]
  },
  {
   "cell_type": "code",
   "execution_count": 75,
   "id": "6c6b3972-8002-4c4f-86e3-356b16eb1871",
   "metadata": {},
   "outputs": [
    {
     "name": "stdout",
     "output_type": "stream",
     "text": [
      "['python', 'awesome']\n"
     ]
    }
   ],
   "source": [
    "#Write a Python program to find the list of words that are longer than n from a given list of words.\n",
    "def words_longer_than_n(words_list, n):\n",
    "    return [word for word in words_list if len(word) > n]\n",
    "words_list = [\"hello\", \"world\", \"python\", \"is\", \"awesome\"]\n",
    "n = 5\n",
    "result = words_longer_than_n(words_list, n)\n",
    "print(result)"
   ]
  },
  {
   "cell_type": "code",
   "execution_count": 76,
   "id": "0f9800d6-dab1-40b5-830f-0ed6ca90b741",
   "metadata": {},
   "outputs": [
    {
     "name": "stdout",
     "output_type": "stream",
     "text": [
      "[(1, 2, 3), ('a', 'b', 'c')]\n"
     ]
    }
   ],
   "source": [
    "#Write a Python program to unzip a list of tuples into individual lists.\n",
    "def unzip_list_of_tuples(tuples_list):\n",
    "    return list(zip(*tuples_list))\n",
    "tuples_list = [(1, 'a'), (2, 'b'), (3, 'c')]\n",
    "result = unzip_list_of_tuples(tuples_list)\n",
    "print(result)\n"
   ]
  },
  {
   "cell_type": "code",
   "execution_count": 77,
   "id": "c0c7a065-0020-4902-80b0-b14bcc94b8f6",
   "metadata": {},
   "outputs": [
    {
     "name": "stdout",
     "output_type": "stream",
     "text": [
      "(5, 4, 3, 2, 1)\n"
     ]
    }
   ],
   "source": [
    "#Write a Python program to reverse a tuple.\n",
    "def reverse_tuple(tpl):\n",
    "    return tpl[::-1]\n",
    "\n",
    "tpl = (1, 2, 3, 4, 5)\n",
    "result = reverse_tuple(tpl)\n",
    "print(result)\n"
   ]
  },
  {
   "cell_type": "code",
   "execution_count": 78,
   "id": "0a795706-95d7-4d9e-8ac6-04372f299274",
   "metadata": {},
   "outputs": [
    {
     "name": "stdout",
     "output_type": "stream",
     "text": [
      "{1: 'a', 2: 'b', 3: 'c'}\n"
     ]
    }
   ],
   "source": [
    "#Write a Python program to convert a list of tuples into a dictionary.\n",
    "def list_of_tuples_to_dict(tuples_list):\n",
    "    return dict(tuples_list)\n",
    "tuples_list = [(1, 'a'), (2, 'b'), (3, 'c')]\n",
    "result = list_of_tuples_to_dict(tuples_list)\n",
    "print(result)\n"
   ]
  },
  {
   "cell_type": "code",
   "execution_count": 79,
   "id": "56a4e688-5b76-4a91-80cd-b396635bbe34",
   "metadata": {},
   "outputs": [
    {
     "name": "stdout",
     "output_type": "stream",
     "text": [
      "Tuple contains: 1, 2, 3\n"
     ]
    }
   ],
   "source": [
    "#Write a Python program to print a tuple with string formatting.\n",
    "def format_tuple(tpl):\n",
    "    return \"Tuple contains: {}\".format(', '.join(map(str, tpl)))\n",
    "tpl = (1, 2, 3)\n",
    "result = format_tuple(tpl)\n",
    "print(result)\n"
   ]
  },
  {
   "cell_type": "code",
   "execution_count": 80,
   "id": "fac72e7a-ce50-458d-9b65-e08a74b93069",
   "metadata": {},
   "outputs": [
    {
     "name": "stdout",
     "output_type": "stream",
     "text": [
      "{1, 2, 4, 5}\n"
     ]
    }
   ],
   "source": [
    "#Write a Python program to create a symmetric difference.\n",
    "def symmetric_difference(set1, set2):\n",
    "    return set1.symmetric_difference(set2)\n",
    "set1 = {1, 2, 3}\n",
    "set2 = {3, 4, 5}\n",
    "result = symmetric_difference(set1, set2)\n",
    "print(result)\n"
   ]
  },
  {
   "cell_type": "code",
   "execution_count": 81,
   "id": "d107036c-f36b-4474-bac8-2913f6688973",
   "metadata": {},
   "outputs": [
    {
     "name": "stdout",
     "output_type": "stream",
     "text": [
      "True\n"
     ]
    }
   ],
   "source": [
    "#Write a Python program to check if a given value is present in a set or not.\n",
    "\n",
    "def is_value_in_set(s, value):\n",
    "    return value in s\n",
    "s = {1, 2, 3, 4, 5}\n",
    "value = 3\n",
    "result = is_value_in_set(s, value)\n",
    "print(result)\n"
   ]
  },
  {
   "cell_type": "code",
   "execution_count": 82,
   "id": "8eee4355-ffee-471c-8ee8-f1cd5feb18e1",
   "metadata": {},
   "outputs": [
    {
     "name": "stdout",
     "output_type": "stream",
     "text": [
      "True\n"
     ]
    }
   ],
   "source": [
    "#Write a Python program to check if a given set is a superset of itself and a superset of another given set.\n",
    "def check_superset(set1, set2):\n",
    "    return set1.issuperset(set1) and set1.issuperset(set2)\n",
    "set1 = {1, 2, 3, 4, 5}\n",
    "set2 = {2, 3}\n",
    "result = check_superset(set1, set2)\n",
    "print(result)\n"
   ]
  },
  {
   "cell_type": "code",
   "execution_count": 83,
   "id": "e62ef06c-9840-4879-91bc-217dab079395",
   "metadata": {},
   "outputs": [
    {
     "name": "stdout",
     "output_type": "stream",
     "text": [
      "True\n"
     ]
    }
   ],
   "source": [
    "#Write a Python program to check a given set has no elements in common with another given set.\n",
    "def no_common_elements(set1, set2):\n",
    "    return set1.isdisjoint(set2)\n",
    "set1 = {1, 2, 3}\n",
    "set2 = {4, 5, 6}\n",
    "result = no_common_elements(set1, set2)\n",
    "print(result)\n"
   ]
  },
  {
   "cell_type": "code",
   "execution_count": 85,
   "id": "0d75177a-d447-4983-aa66-6f3641056b3e",
   "metadata": {},
   "outputs": [
    {
     "name": "stdout",
     "output_type": "stream",
     "text": [
      "{1, 2}\n"
     ]
    }
   ],
   "source": [
    "#Write a Python program to remove the intersection of a 2nd set from the 1st set.\n",
    "def remove_intersection(set1, set2):\n",
    "    return set1 - set1.intersection(set2)\n",
    "set1 = {1, 2, 3, 4}\n",
    "set2 = {3, 4, 5, 6}\n",
    "result = remove_intersection(set1, set2)\n",
    "print(result)\n"
   ]
  },
  {
   "cell_type": "code",
   "execution_count": 86,
   "id": "9d9f3709-9653-4e29-8083-eb5d875dfb57",
   "metadata": {},
   "outputs": [
    {
     "name": "stdout",
     "output_type": "stream",
     "text": [
      "{'a': 1, 'b': 2, 'd': 3}\n"
     ]
    }
   ],
   "source": [
    "#Write a Python program to remove duplicates from a dictionary.\n",
    "def remove_duplicates(d):\n",
    "    reverse_dict = {}\n",
    "    for key, value in d.items():\n",
    "        if value not in reverse_dict.values():\n",
    "            reverse_dict[key] = value\n",
    "    return reverse_dict\n",
    "\n",
    "d = {'a': 1, 'b': 2, 'c': 2, 'd': 3}\n",
    "result = remove_duplicates(d)\n",
    "print(result)\n"
   ]
  },
  {
   "cell_type": "code",
   "execution_count": 87,
   "id": "5ec44c2f-173a-467d-bafb-5cea6a52ea46",
   "metadata": {},
   "outputs": [
    {
     "name": "stdout",
     "output_type": "stream",
     "text": [
      "True\n"
     ]
    }
   ],
   "source": [
    "#Write a Python script to check whether a given key already exists in a dictionary.\n",
    "def check_key_in_dict(d, key):\n",
    "    return key in d\n",
    "d = {'a': 1, 'b': 2, 'c': 3}\n",
    "key = 'b'\n",
    "result = check_key_in_dict(d, key)\n",
    "print(result)\n"
   ]
  },
  {
   "cell_type": "code",
   "execution_count": 88,
   "id": "0d4be434-b399-437e-8666-b6811c70dc14",
   "metadata": {},
   "outputs": [
    {
     "name": "stdout",
     "output_type": "stream",
     "text": [
      "6\n"
     ]
    }
   ],
   "source": [
    "#Write a Python program to sum all the items in a dictionary\n",
    "def sum_dict_items(d):\n",
    "    return sum(d.values())\n",
    "d = {'a': 1, 'b': 2, 'c': 3}\n",
    "result = sum_dict_items(d)\n",
    "print(result)\n"
   ]
  },
  {
   "cell_type": "code",
   "execution_count": 89,
   "id": "37f0a9a6-10f9-459c-a943-82277f21e871",
   "metadata": {},
   "outputs": [
    {
     "name": "stdout",
     "output_type": "stream",
     "text": [
      "6\n"
     ]
    }
   ],
   "source": [
    "#Write a Python program to multiply all the items in a dictionary.\n",
    "def multiply_dict_items(d):\n",
    "    result = 1\n",
    "    for value in d.values():\n",
    "        result *= value\n",
    "    return result\n",
    "d = {'a': 1, 'b': 2, 'c': 3}\n",
    "result = multiply_dict_items(d)\n",
    "print(result)\n"
   ]
  },
  {
   "cell_type": "code",
   "execution_count": 90,
   "id": "c08f7439-b67d-41d3-a4dc-8fd7eab75cea",
   "metadata": {},
   "outputs": [
    {
     "name": "stdout",
     "output_type": "stream",
     "text": [
      "{'a': 1, 'c': 3}\n"
     ]
    }
   ],
   "source": [
    "#Write a Python program to remove a key from a dictionary.\n",
    "def remove_key_from_dict(d, key):\n",
    "    if key in d:\n",
    "        del d[key]\n",
    "    return d\n",
    "d = {'a': 1, 'b': 2, 'c': 3}\n",
    "key = 'b'\n",
    "result = remove_key_from_dict(d, key)\n",
    "print(result)\n"
   ]
  },
  {
   "cell_type": "code",
   "execution_count": null,
   "id": "bc5e98ec-a6bb-4a8d-a8d8-a0a7537b9347",
   "metadata": {},
   "outputs": [],
   "source": []
  }
 ],
 "metadata": {
  "kernelspec": {
   "display_name": "Python 3 (ipykernel)",
   "language": "python",
   "name": "python3"
  },
  "language_info": {
   "codemirror_mode": {
    "name": "ipython",
    "version": 3
   },
   "file_extension": ".py",
   "mimetype": "text/x-python",
   "name": "python",
   "nbconvert_exporter": "python",
   "pygments_lexer": "ipython3",
   "version": "3.12.2"
  }
 },
 "nbformat": 4,
 "nbformat_minor": 5
}
